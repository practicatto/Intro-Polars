{
  "nbformat": 4,
  "nbformat_minor": 0,
  "metadata": {
    "colab": {
      "provenance": [],
      "mount_file_id": "1IMoLMbUrt-Sa7li0QspN8_Ev6qohJ4Qa",
      "authorship_tag": "ABX9TyP81K6XPMRsEEXt5N/wUEC3",
      "include_colab_link": true
    },
    "kernelspec": {
      "name": "python3",
      "display_name": "Python 3"
    },
    "language_info": {
      "name": "python"
    }
  },
  "cells": [
    {
      "cell_type": "markdown",
      "metadata": {
        "id": "view-in-github",
        "colab_type": "text"
      },
      "source": [
        "<a href=\"https://colab.research.google.com/github/practicatto/Intro-Polars/blob/main/Polars_Notebook.ipynb\" target=\"_parent\"><img src=\"https://colab.research.google.com/assets/colab-badge.svg\" alt=\"Open In Colab\"/></a>"
      ]
    },
    {
      "cell_type": "markdown",
      "source": [
        "# Primeros Pasos en Polars 🤓\n",
        "Este notebook es usado como material para explicar las características core de Polars en IWD Camino Ecuador 2024"
      ],
      "metadata": {
        "id": "G7d1n3QiVyyT"
      }
    },
    {
      "cell_type": "code",
      "source": [
        "!pip install polars plotly matplotlib pandas"
      ],
      "metadata": {
        "id": "OqTt7On0VxqU"
      },
      "execution_count": null,
      "outputs": []
    },
    {
      "cell_type": "code",
      "source": [
        "import polars as pl\n",
        "import pandas as pd\n",
        "import time"
      ],
      "metadata": {
        "id": "2mFSarhPWw0j"
      },
      "execution_count": null,
      "outputs": []
    },
    {
      "cell_type": "markdown",
      "source": [
        "# Setup configurations\n",
        "Podemos setear polars con varias configuraciones, ahora revisaremos una, chequea el resto en [aquí!!](https://pola-rs.github.io/polars/py-polars/html/reference/config.html)"
      ],
      "metadata": {
        "id": "K9z5I4XLXAyY"
      }
    },
    {
      "cell_type": "code",
      "source": [
        "pl.Config.set_fmt_str_lengths(100)"
      ],
      "metadata": {
        "id": "PinNTAcZXCHm",
        "colab": {
          "base_uri": "https://localhost:8080/",
          "height": 187
        },
        "outputId": "5a2c1954-077e-43e0-8726-3dcba2790d99"
      },
      "execution_count": null,
      "outputs": [
        {
          "output_type": "execute_result",
          "data": {
            "text/plain": [
              "polars.config.Config"
            ],
            "text/html": [
              "<div style=\"max-width:800px; border: 1px solid var(--colab-border-color);\"><style>\n",
              "      pre.function-repr-contents {\n",
              "        overflow-x: auto;\n",
              "        padding: 8px 12px;\n",
              "        max-height: 500px;\n",
              "      }\n",
              "\n",
              "      pre.function-repr-contents.function-repr-contents-collapsed {\n",
              "        cursor: pointer;\n",
              "        max-height: 100px;\n",
              "      }\n",
              "    </style>\n",
              "    <pre style=\"white-space: initial; background:\n",
              "         var(--colab-secondary-surface-color); padding: 8px 12px;\n",
              "         border-bottom: 1px solid var(--colab-border-color);\"><b>polars.config.Config</b><br/>def __call__(func)</pre><pre class=\"function-repr-contents function-repr-contents-collapsed\" style=\"\"><a class=\"filepath\" style=\"display:none\" href=\"#\">/usr/local/lib/python3.10/dist-packages/polars/config.py</a>Configure polars; offers options for table formatting and more.\n",
              "\n",
              "Notes\n",
              "-----\n",
              "Can also be used as a context manager OR a function decorator in order to\n",
              "temporarily scope the lifetime of specific options. For example:\n",
              "\n",
              "&gt;&gt;&gt; with pl.Config() as cfg:\n",
              "...     # set verbose for more detailed output within the scope\n",
              "...     cfg.set_verbose(True)  # doctest: +IGNORE_RESULT\n",
              "...\n",
              "&gt;&gt;&gt; # scope exit - no longer in verbose mode\n",
              "\n",
              "This can also be written more compactly as:\n",
              "\n",
              "&gt;&gt;&gt; with pl.Config(verbose=True):\n",
              "...     pass\n",
              "...\n",
              "\n",
              "(The compact format is available for all `Config` methods that take a single value).\n",
              "\n",
              "Alternatively, you can use as a decorator in order to scope the duration of the\n",
              "selected options to a specific function:\n",
              "\n",
              "&gt;&gt;&gt; @pl.Config(verbose=True)\n",
              "... def test():\n",
              "...     pass\n",
              "...</pre>\n",
              "      <script>\n",
              "      if (google.colab.kernel.accessAllowed && google.colab.files && google.colab.files.view) {\n",
              "        for (const element of document.querySelectorAll('.filepath')) {\n",
              "          element.style.display = 'block'\n",
              "          element.onclick = (event) => {\n",
              "            event.preventDefault();\n",
              "            event.stopPropagation();\n",
              "            google.colab.files.view(element.textContent, 85);\n",
              "          };\n",
              "        }\n",
              "      }\n",
              "      for (const element of document.querySelectorAll('.function-repr-contents')) {\n",
              "        element.onclick = (event) => {\n",
              "          event.preventDefault();\n",
              "          event.stopPropagation();\n",
              "          element.classList.toggle('function-repr-contents-collapsed');\n",
              "        };\n",
              "      }\n",
              "      </script>\n",
              "      </div>"
            ]
          },
          "metadata": {},
          "execution_count": 52
        }
      ]
    },
    {
      "cell_type": "markdown",
      "source": [
        "# Leamos un archivo!\n",
        "Polars puede leer múltiples archivos: JSON, CSV, PARQUET, ARROW, EXCEL y también conexiones de bases.\n",
        "\n",
        "### Sobre nuestro dataset\n",
        "Titanic\n",
        "\n",
        "Tamaño de dataset: 28 kb\n",
        "\n",
        "Formato: csv\n",
        "\n"
      ],
      "metadata": {
        "id": "FLNStMswXbfP"
      }
    },
    {
      "cell_type": "code",
      "source": [
        "file=\"/content/drive/MyDrive/dataset_polars/titanic.csv\""
      ],
      "metadata": {
        "id": "zU4-6r2DfqJl"
      },
      "execution_count": null,
      "outputs": []
    },
    {
      "cell_type": "code",
      "source": [
        "start_time_pandas = time.time()\n",
        "pd_df = pd.read_csv(file)\n",
        "time_taken_pandas = time.time() - start_time_pandas\n",
        "\n",
        "print(f\"Time taken by Pandas: {time_taken_pandas*1000} milliseconds\")"
      ],
      "metadata": {
        "colab": {
          "base_uri": "https://localhost:8080/"
        },
        "id": "JzNzPtaPYLiv",
        "outputId": "d63a78d6-25d1-40a9-b1f7-387abfac4f1b"
      },
      "execution_count": null,
      "outputs": [
        {
          "output_type": "stream",
          "name": "stdout",
          "text": [
            "Time taken by Pandas: 39.333343505859375 milliseconds\n"
          ]
        }
      ]
    },
    {
      "cell_type": "code",
      "source": [
        "start_time_polars = time.time()\n",
        "pl_df = pl.read_csv(file)\n",
        "time_taken_polars = time.time() - start_time_polars\n",
        "print(f\"Time taken by Polars: {time_taken_polars*1000} milliseconds\")"
      ],
      "metadata": {
        "id": "lfZm70offWuF",
        "outputId": "35f07702-7155-48e7-f819-6f299d28334a",
        "colab": {
          "base_uri": "https://localhost:8080/"
        }
      },
      "execution_count": null,
      "outputs": [
        {
          "output_type": "stream",
          "name": "stdout",
          "text": [
            "Time taken by Polars: 246.70124053955078 milliseconds\n"
          ]
        }
      ]
    },
    {
      "cell_type": "code",
      "source": [
        "pl_df.head()"
      ],
      "metadata": {
        "colab": {
          "base_uri": "https://localhost:8080/",
          "height": 255
        },
        "id": "zr38zpeVYnhf",
        "outputId": "a6670dfd-3677-4762-c2ff-39bc56fab9b8"
      },
      "execution_count": null,
      "outputs": [
        {
          "output_type": "execute_result",
          "data": {
            "text/plain": [
              "shape: (5, 11)\n",
              "┌─────────────┬────────┬────────────────────┬────────┬───┬─────────┬─────────┬───────┬──────────┐\n",
              "│ PassengerId ┆ Pclass ┆ Name               ┆ Sex    ┆ … ┆ Ticket  ┆ Fare    ┆ Cabin ┆ Embarked │\n",
              "│ ---         ┆ ---    ┆ ---                ┆ ---    ┆   ┆ ---     ┆ ---     ┆ ---   ┆ ---      │\n",
              "│ i64         ┆ i64    ┆ str                ┆ str    ┆   ┆ str     ┆ f64     ┆ str   ┆ str      │\n",
              "╞═════════════╪════════╪════════════════════╪════════╪═══╪═════════╪═════════╪═══════╪══════════╡\n",
              "│ 892         ┆ 3      ┆ Kelly, Mr. James   ┆ male   ┆ … ┆ 330911  ┆ 7.8292  ┆ null  ┆ Q        │\n",
              "│ 893         ┆ 3      ┆ Wilkes, Mrs. James ┆ female ┆ … ┆ 363272  ┆ 7.0     ┆ null  ┆ S        │\n",
              "│             ┆        ┆ (Ellen Needs)      ┆        ┆   ┆         ┆         ┆       ┆          │\n",
              "│ 894         ┆ 2      ┆ Myles, Mr. Thomas  ┆ male   ┆ … ┆ 240276  ┆ 9.6875  ┆ null  ┆ Q        │\n",
              "│             ┆        ┆ Francis            ┆        ┆   ┆         ┆         ┆       ┆          │\n",
              "│ 895         ┆ 3      ┆ Wirz, Mr. Albert   ┆ male   ┆ … ┆ 315154  ┆ 8.6625  ┆ null  ┆ S        │\n",
              "│ 896         ┆ 3      ┆ Hirvonen, Mrs.     ┆ female ┆ … ┆ 3101298 ┆ 12.2875 ┆ null  ┆ S        │\n",
              "│             ┆        ┆ Alexander (Helga … ┆        ┆   ┆         ┆         ┆       ┆          │\n",
              "└─────────────┴────────┴────────────────────┴────────┴───┴─────────┴─────────┴───────┴──────────┘"
            ],
            "text/html": [
              "<div><style>\n",
              ".dataframe > thead > tr,\n",
              ".dataframe > tbody > tr {\n",
              "  text-align: right;\n",
              "  white-space: pre-wrap;\n",
              "}\n",
              "</style>\n",
              "<small>shape: (5, 11)</small><table border=\"1\" class=\"dataframe\"><thead><tr><th>PassengerId</th><th>Pclass</th><th>Name</th><th>Sex</th><th>Age</th><th>SibSp</th><th>Parch</th><th>Ticket</th><th>Fare</th><th>Cabin</th><th>Embarked</th></tr><tr><td>i64</td><td>i64</td><td>str</td><td>str</td><td>f64</td><td>i64</td><td>i64</td><td>str</td><td>f64</td><td>str</td><td>str</td></tr></thead><tbody><tr><td>892</td><td>3</td><td>&quot;Kelly, Mr. Jam…</td><td>&quot;male&quot;</td><td>34.5</td><td>0</td><td>0</td><td>&quot;330911&quot;</td><td>7.8292</td><td>null</td><td>&quot;Q&quot;</td></tr><tr><td>893</td><td>3</td><td>&quot;Wilkes, Mrs. J…</td><td>&quot;female&quot;</td><td>47.0</td><td>1</td><td>0</td><td>&quot;363272&quot;</td><td>7.0</td><td>null</td><td>&quot;S&quot;</td></tr><tr><td>894</td><td>2</td><td>&quot;Myles, Mr. Tho…</td><td>&quot;male&quot;</td><td>62.0</td><td>0</td><td>0</td><td>&quot;240276&quot;</td><td>9.6875</td><td>null</td><td>&quot;Q&quot;</td></tr><tr><td>895</td><td>3</td><td>&quot;Wirz, Mr. Albe…</td><td>&quot;male&quot;</td><td>27.0</td><td>0</td><td>0</td><td>&quot;315154&quot;</td><td>8.6625</td><td>null</td><td>&quot;S&quot;</td></tr><tr><td>896</td><td>3</td><td>&quot;Hirvonen, Mrs.…</td><td>&quot;female&quot;</td><td>22.0</td><td>1</td><td>1</td><td>&quot;3101298&quot;</td><td>12.2875</td><td>null</td><td>&quot;S&quot;</td></tr></tbody></table></div>"
            ]
          },
          "metadata": {},
          "execution_count": 12
        }
      ]
    },
    {
      "cell_type": "code",
      "source": [
        "# Ver información general en pandas\n",
        "pd_df.info()\n",
        "\n",
        "# Ver las estadisticas\n",
        "pd_df.describe()"
      ],
      "metadata": {
        "colab": {
          "base_uri": "https://localhost:8080/",
          "height": 622
        },
        "id": "1cPSN2yBaV-i",
        "outputId": "f40de9c7-fd83-456d-93fb-39b885600bd3"
      },
      "execution_count": null,
      "outputs": [
        {
          "output_type": "stream",
          "name": "stdout",
          "text": [
            "<class 'pandas.core.frame.DataFrame'>\n",
            "RangeIndex: 418 entries, 0 to 417\n",
            "Data columns (total 11 columns):\n",
            " #   Column       Non-Null Count  Dtype  \n",
            "---  ------       --------------  -----  \n",
            " 0   PassengerId  418 non-null    int64  \n",
            " 1   Pclass       418 non-null    int64  \n",
            " 2   Name         418 non-null    object \n",
            " 3   Sex          418 non-null    object \n",
            " 4   Age          332 non-null    float64\n",
            " 5   SibSp        418 non-null    int64  \n",
            " 6   Parch        418 non-null    int64  \n",
            " 7   Ticket       418 non-null    object \n",
            " 8   Fare         417 non-null    float64\n",
            " 9   Cabin        91 non-null     object \n",
            " 10  Embarked     418 non-null    object \n",
            "dtypes: float64(2), int64(4), object(5)\n",
            "memory usage: 36.0+ KB\n"
          ]
        },
        {
          "output_type": "execute_result",
          "data": {
            "text/plain": [
              "       PassengerId      Pclass         Age       SibSp       Parch        Fare\n",
              "count   418.000000  418.000000  332.000000  418.000000  418.000000  417.000000\n",
              "mean   1100.500000    2.265550   30.272590    0.447368    0.392344   35.627188\n",
              "std     120.810458    0.841838   14.181209    0.896760    0.981429   55.907576\n",
              "min     892.000000    1.000000    0.170000    0.000000    0.000000    0.000000\n",
              "25%     996.250000    1.000000   21.000000    0.000000    0.000000    7.895800\n",
              "50%    1100.500000    3.000000   27.000000    0.000000    0.000000   14.454200\n",
              "75%    1204.750000    3.000000   39.000000    1.000000    0.000000   31.500000\n",
              "max    1309.000000    3.000000   76.000000    8.000000    9.000000  512.329200"
            ],
            "text/html": [
              "\n",
              "  <div id=\"df-6603da37-36c3-4c31-9b16-05eb130a49d9\" class=\"colab-df-container\">\n",
              "    <div>\n",
              "<style scoped>\n",
              "    .dataframe tbody tr th:only-of-type {\n",
              "        vertical-align: middle;\n",
              "    }\n",
              "\n",
              "    .dataframe tbody tr th {\n",
              "        vertical-align: top;\n",
              "    }\n",
              "\n",
              "    .dataframe thead th {\n",
              "        text-align: right;\n",
              "    }\n",
              "</style>\n",
              "<table border=\"1\" class=\"dataframe\">\n",
              "  <thead>\n",
              "    <tr style=\"text-align: right;\">\n",
              "      <th></th>\n",
              "      <th>PassengerId</th>\n",
              "      <th>Pclass</th>\n",
              "      <th>Age</th>\n",
              "      <th>SibSp</th>\n",
              "      <th>Parch</th>\n",
              "      <th>Fare</th>\n",
              "    </tr>\n",
              "  </thead>\n",
              "  <tbody>\n",
              "    <tr>\n",
              "      <th>count</th>\n",
              "      <td>418.000000</td>\n",
              "      <td>418.000000</td>\n",
              "      <td>332.000000</td>\n",
              "      <td>418.000000</td>\n",
              "      <td>418.000000</td>\n",
              "      <td>417.000000</td>\n",
              "    </tr>\n",
              "    <tr>\n",
              "      <th>mean</th>\n",
              "      <td>1100.500000</td>\n",
              "      <td>2.265550</td>\n",
              "      <td>30.272590</td>\n",
              "      <td>0.447368</td>\n",
              "      <td>0.392344</td>\n",
              "      <td>35.627188</td>\n",
              "    </tr>\n",
              "    <tr>\n",
              "      <th>std</th>\n",
              "      <td>120.810458</td>\n",
              "      <td>0.841838</td>\n",
              "      <td>14.181209</td>\n",
              "      <td>0.896760</td>\n",
              "      <td>0.981429</td>\n",
              "      <td>55.907576</td>\n",
              "    </tr>\n",
              "    <tr>\n",
              "      <th>min</th>\n",
              "      <td>892.000000</td>\n",
              "      <td>1.000000</td>\n",
              "      <td>0.170000</td>\n",
              "      <td>0.000000</td>\n",
              "      <td>0.000000</td>\n",
              "      <td>0.000000</td>\n",
              "    </tr>\n",
              "    <tr>\n",
              "      <th>25%</th>\n",
              "      <td>996.250000</td>\n",
              "      <td>1.000000</td>\n",
              "      <td>21.000000</td>\n",
              "      <td>0.000000</td>\n",
              "      <td>0.000000</td>\n",
              "      <td>7.895800</td>\n",
              "    </tr>\n",
              "    <tr>\n",
              "      <th>50%</th>\n",
              "      <td>1100.500000</td>\n",
              "      <td>3.000000</td>\n",
              "      <td>27.000000</td>\n",
              "      <td>0.000000</td>\n",
              "      <td>0.000000</td>\n",
              "      <td>14.454200</td>\n",
              "    </tr>\n",
              "    <tr>\n",
              "      <th>75%</th>\n",
              "      <td>1204.750000</td>\n",
              "      <td>3.000000</td>\n",
              "      <td>39.000000</td>\n",
              "      <td>1.000000</td>\n",
              "      <td>0.000000</td>\n",
              "      <td>31.500000</td>\n",
              "    </tr>\n",
              "    <tr>\n",
              "      <th>max</th>\n",
              "      <td>1309.000000</td>\n",
              "      <td>3.000000</td>\n",
              "      <td>76.000000</td>\n",
              "      <td>8.000000</td>\n",
              "      <td>9.000000</td>\n",
              "      <td>512.329200</td>\n",
              "    </tr>\n",
              "  </tbody>\n",
              "</table>\n",
              "</div>\n",
              "    <div class=\"colab-df-buttons\">\n",
              "\n",
              "  <div class=\"colab-df-container\">\n",
              "    <button class=\"colab-df-convert\" onclick=\"convertToInteractive('df-6603da37-36c3-4c31-9b16-05eb130a49d9')\"\n",
              "            title=\"Convert this dataframe to an interactive table.\"\n",
              "            style=\"display:none;\">\n",
              "\n",
              "  <svg xmlns=\"http://www.w3.org/2000/svg\" height=\"24px\" viewBox=\"0 -960 960 960\">\n",
              "    <path d=\"M120-120v-720h720v720H120Zm60-500h600v-160H180v160Zm220 220h160v-160H400v160Zm0 220h160v-160H400v160ZM180-400h160v-160H180v160Zm440 0h160v-160H620v160ZM180-180h160v-160H180v160Zm440 0h160v-160H620v160Z\"/>\n",
              "  </svg>\n",
              "    </button>\n",
              "\n",
              "  <style>\n",
              "    .colab-df-container {\n",
              "      display:flex;\n",
              "      gap: 12px;\n",
              "    }\n",
              "\n",
              "    .colab-df-convert {\n",
              "      background-color: #E8F0FE;\n",
              "      border: none;\n",
              "      border-radius: 50%;\n",
              "      cursor: pointer;\n",
              "      display: none;\n",
              "      fill: #1967D2;\n",
              "      height: 32px;\n",
              "      padding: 0 0 0 0;\n",
              "      width: 32px;\n",
              "    }\n",
              "\n",
              "    .colab-df-convert:hover {\n",
              "      background-color: #E2EBFA;\n",
              "      box-shadow: 0px 1px 2px rgba(60, 64, 67, 0.3), 0px 1px 3px 1px rgba(60, 64, 67, 0.15);\n",
              "      fill: #174EA6;\n",
              "    }\n",
              "\n",
              "    .colab-df-buttons div {\n",
              "      margin-bottom: 4px;\n",
              "    }\n",
              "\n",
              "    [theme=dark] .colab-df-convert {\n",
              "      background-color: #3B4455;\n",
              "      fill: #D2E3FC;\n",
              "    }\n",
              "\n",
              "    [theme=dark] .colab-df-convert:hover {\n",
              "      background-color: #434B5C;\n",
              "      box-shadow: 0px 1px 3px 1px rgba(0, 0, 0, 0.15);\n",
              "      filter: drop-shadow(0px 1px 2px rgba(0, 0, 0, 0.3));\n",
              "      fill: #FFFFFF;\n",
              "    }\n",
              "  </style>\n",
              "\n",
              "    <script>\n",
              "      const buttonEl =\n",
              "        document.querySelector('#df-6603da37-36c3-4c31-9b16-05eb130a49d9 button.colab-df-convert');\n",
              "      buttonEl.style.display =\n",
              "        google.colab.kernel.accessAllowed ? 'block' : 'none';\n",
              "\n",
              "      async function convertToInteractive(key) {\n",
              "        const element = document.querySelector('#df-6603da37-36c3-4c31-9b16-05eb130a49d9');\n",
              "        const dataTable =\n",
              "          await google.colab.kernel.invokeFunction('convertToInteractive',\n",
              "                                                    [key], {});\n",
              "        if (!dataTable) return;\n",
              "\n",
              "        const docLinkHtml = 'Like what you see? Visit the ' +\n",
              "          '<a target=\"_blank\" href=https://colab.research.google.com/notebooks/data_table.ipynb>data table notebook</a>'\n",
              "          + ' to learn more about interactive tables.';\n",
              "        element.innerHTML = '';\n",
              "        dataTable['output_type'] = 'display_data';\n",
              "        await google.colab.output.renderOutput(dataTable, element);\n",
              "        const docLink = document.createElement('div');\n",
              "        docLink.innerHTML = docLinkHtml;\n",
              "        element.appendChild(docLink);\n",
              "      }\n",
              "    </script>\n",
              "  </div>\n",
              "\n",
              "\n",
              "<div id=\"df-940dd694-b74b-440d-a2d5-d8c8d9a58c67\">\n",
              "  <button class=\"colab-df-quickchart\" onclick=\"quickchart('df-940dd694-b74b-440d-a2d5-d8c8d9a58c67')\"\n",
              "            title=\"Suggest charts\"\n",
              "            style=\"display:none;\">\n",
              "\n",
              "<svg xmlns=\"http://www.w3.org/2000/svg\" height=\"24px\"viewBox=\"0 0 24 24\"\n",
              "     width=\"24px\">\n",
              "    <g>\n",
              "        <path d=\"M19 3H5c-1.1 0-2 .9-2 2v14c0 1.1.9 2 2 2h14c1.1 0 2-.9 2-2V5c0-1.1-.9-2-2-2zM9 17H7v-7h2v7zm4 0h-2V7h2v10zm4 0h-2v-4h2v4z\"/>\n",
              "    </g>\n",
              "</svg>\n",
              "  </button>\n",
              "\n",
              "<style>\n",
              "  .colab-df-quickchart {\n",
              "      --bg-color: #E8F0FE;\n",
              "      --fill-color: #1967D2;\n",
              "      --hover-bg-color: #E2EBFA;\n",
              "      --hover-fill-color: #174EA6;\n",
              "      --disabled-fill-color: #AAA;\n",
              "      --disabled-bg-color: #DDD;\n",
              "  }\n",
              "\n",
              "  [theme=dark] .colab-df-quickchart {\n",
              "      --bg-color: #3B4455;\n",
              "      --fill-color: #D2E3FC;\n",
              "      --hover-bg-color: #434B5C;\n",
              "      --hover-fill-color: #FFFFFF;\n",
              "      --disabled-bg-color: #3B4455;\n",
              "      --disabled-fill-color: #666;\n",
              "  }\n",
              "\n",
              "  .colab-df-quickchart {\n",
              "    background-color: var(--bg-color);\n",
              "    border: none;\n",
              "    border-radius: 50%;\n",
              "    cursor: pointer;\n",
              "    display: none;\n",
              "    fill: var(--fill-color);\n",
              "    height: 32px;\n",
              "    padding: 0;\n",
              "    width: 32px;\n",
              "  }\n",
              "\n",
              "  .colab-df-quickchart:hover {\n",
              "    background-color: var(--hover-bg-color);\n",
              "    box-shadow: 0 1px 2px rgba(60, 64, 67, 0.3), 0 1px 3px 1px rgba(60, 64, 67, 0.15);\n",
              "    fill: var(--button-hover-fill-color);\n",
              "  }\n",
              "\n",
              "  .colab-df-quickchart-complete:disabled,\n",
              "  .colab-df-quickchart-complete:disabled:hover {\n",
              "    background-color: var(--disabled-bg-color);\n",
              "    fill: var(--disabled-fill-color);\n",
              "    box-shadow: none;\n",
              "  }\n",
              "\n",
              "  .colab-df-spinner {\n",
              "    border: 2px solid var(--fill-color);\n",
              "    border-color: transparent;\n",
              "    border-bottom-color: var(--fill-color);\n",
              "    animation:\n",
              "      spin 1s steps(1) infinite;\n",
              "  }\n",
              "\n",
              "  @keyframes spin {\n",
              "    0% {\n",
              "      border-color: transparent;\n",
              "      border-bottom-color: var(--fill-color);\n",
              "      border-left-color: var(--fill-color);\n",
              "    }\n",
              "    20% {\n",
              "      border-color: transparent;\n",
              "      border-left-color: var(--fill-color);\n",
              "      border-top-color: var(--fill-color);\n",
              "    }\n",
              "    30% {\n",
              "      border-color: transparent;\n",
              "      border-left-color: var(--fill-color);\n",
              "      border-top-color: var(--fill-color);\n",
              "      border-right-color: var(--fill-color);\n",
              "    }\n",
              "    40% {\n",
              "      border-color: transparent;\n",
              "      border-right-color: var(--fill-color);\n",
              "      border-top-color: var(--fill-color);\n",
              "    }\n",
              "    60% {\n",
              "      border-color: transparent;\n",
              "      border-right-color: var(--fill-color);\n",
              "    }\n",
              "    80% {\n",
              "      border-color: transparent;\n",
              "      border-right-color: var(--fill-color);\n",
              "      border-bottom-color: var(--fill-color);\n",
              "    }\n",
              "    90% {\n",
              "      border-color: transparent;\n",
              "      border-bottom-color: var(--fill-color);\n",
              "    }\n",
              "  }\n",
              "</style>\n",
              "\n",
              "  <script>\n",
              "    async function quickchart(key) {\n",
              "      const quickchartButtonEl =\n",
              "        document.querySelector('#' + key + ' button');\n",
              "      quickchartButtonEl.disabled = true;  // To prevent multiple clicks.\n",
              "      quickchartButtonEl.classList.add('colab-df-spinner');\n",
              "      try {\n",
              "        const charts = await google.colab.kernel.invokeFunction(\n",
              "            'suggestCharts', [key], {});\n",
              "      } catch (error) {\n",
              "        console.error('Error during call to suggestCharts:', error);\n",
              "      }\n",
              "      quickchartButtonEl.classList.remove('colab-df-spinner');\n",
              "      quickchartButtonEl.classList.add('colab-df-quickchart-complete');\n",
              "    }\n",
              "    (() => {\n",
              "      let quickchartButtonEl =\n",
              "        document.querySelector('#df-940dd694-b74b-440d-a2d5-d8c8d9a58c67 button');\n",
              "      quickchartButtonEl.style.display =\n",
              "        google.colab.kernel.accessAllowed ? 'block' : 'none';\n",
              "    })();\n",
              "  </script>\n",
              "</div>\n",
              "\n",
              "    </div>\n",
              "  </div>\n"
            ],
            "application/vnd.google.colaboratory.intrinsic+json": {
              "type": "dataframe",
              "summary": "{\n  \"name\": \"pd_df\",\n  \"rows\": 8,\n  \"fields\": [\n    {\n      \"column\": \"PassengerId\",\n      \"properties\": {\n        \"dtype\": \"number\",\n        \"std\": 412.1232851470217,\n        \"min\": 120.81045760473994,\n        \"max\": 1309.0,\n        \"num_unique_values\": 7,\n        \"samples\": [\n          418.0,\n          1100.5,\n          1204.75\n        ],\n        \"semantic_type\": \"\",\n        \"description\": \"\"\n      }\n    },\n    {\n      \"column\": \"Pclass\",\n      \"properties\": {\n        \"dtype\": \"number\",\n        \"std\": 147.0758997861715,\n        \"min\": 0.8418375519640503,\n        \"max\": 418.0,\n        \"num_unique_values\": 5,\n        \"samples\": [\n          2.2655502392344498,\n          3.0,\n          0.8418375519640503\n        ],\n        \"semantic_type\": \"\",\n        \"description\": \"\"\n      }\n    },\n    {\n      \"column\": \"Age\",\n      \"properties\": {\n        \"dtype\": \"number\",\n        \"std\": 109.15868834351015,\n        \"min\": 0.17,\n        \"max\": 332.0,\n        \"num_unique_values\": 8,\n        \"samples\": [\n          30.272590361445783,\n          27.0,\n          332.0\n        ],\n        \"semantic_type\": \"\",\n        \"description\": \"\"\n      }\n    },\n    {\n      \"column\": \"SibSp\",\n      \"properties\": {\n        \"dtype\": \"number\",\n        \"std\": 147.28745840271156,\n        \"min\": 0.0,\n        \"max\": 418.0,\n        \"num_unique_values\": 6,\n        \"samples\": [\n          418.0,\n          0.4473684210526316,\n          8.0\n        ],\n        \"semantic_type\": \"\",\n        \"description\": \"\"\n      }\n    },\n    {\n      \"column\": \"Parch\",\n      \"properties\": {\n        \"dtype\": \"number\",\n        \"std\": 147.29373273558997,\n        \"min\": 0.0,\n        \"max\": 418.0,\n        \"num_unique_values\": 5,\n        \"samples\": [\n          0.3923444976076555,\n          9.0,\n          0.9814288785371691\n        ],\n        \"semantic_type\": \"\",\n        \"description\": \"\"\n      }\n    },\n    {\n      \"column\": \"Fare\",\n      \"properties\": {\n        \"dtype\": \"number\",\n        \"std\": 206.20808392426468,\n        \"min\": 0.0,\n        \"max\": 512.3292,\n        \"num_unique_values\": 8,\n        \"samples\": [\n          35.627188489208635,\n          14.4542,\n          417.0\n        ],\n        \"semantic_type\": \"\",\n        \"description\": \"\"\n      }\n    }\n  ]\n}"
            }
          },
          "metadata": {},
          "execution_count": 13
        }
      ]
    },
    {
      "cell_type": "code",
      "source": [
        "pl_df.describe()"
      ],
      "metadata": {
        "colab": {
          "base_uri": "https://localhost:8080/",
          "height": 452
        },
        "id": "a8h67zehaleP",
        "outputId": "ae8de1cf-4959-4370-fac3-76709035c834"
      },
      "execution_count": null,
      "outputs": [
        {
          "output_type": "execute_result",
          "data": {
            "text/plain": [
              "shape: (9, 12)\n",
              "┌────────────┬───────────────┬──────────┬──────────────┬───┬────────┬───────────┬───────┬──────────┐\n",
              "│ describe   ┆ PassengerId   ┆ Pclass   ┆ Name         ┆ … ┆ Ticket ┆ Fare      ┆ Cabin ┆ Embarked │\n",
              "│ ---        ┆ ---           ┆ ---      ┆ ---          ┆   ┆ ---    ┆ ---       ┆ ---   ┆ ---      │\n",
              "│ str        ┆ f64           ┆ f64      ┆ str          ┆   ┆ str    ┆ f64       ┆ str   ┆ str      │\n",
              "╞════════════╪═══════════════╪══════════╪══════════════╪═══╪════════╪═══════════╪═══════╪══════════╡\n",
              "│ count      ┆ 418.0         ┆ 418.0    ┆ 418          ┆ … ┆ 418    ┆ 417.0     ┆ 91    ┆ 418      │\n",
              "│ null_count ┆ 0.0           ┆ 0.0      ┆ 0            ┆ … ┆ 0      ┆ 1.0       ┆ 327   ┆ 0        │\n",
              "│ mean       ┆ 1100.5        ┆ 2.26555  ┆ null         ┆ … ┆ null   ┆ 35.627188 ┆ null  ┆ null     │\n",
              "│ std        ┆ 120.810458    ┆ 0.841838 ┆ null         ┆ … ┆ null   ┆ 55.907576 ┆ null  ┆ null     │\n",
              "│ min        ┆ 892.0         ┆ 1.0      ┆ Abbott,      ┆ … ┆ 110469 ┆ 0.0       ┆ A11   ┆ C        │\n",
              "│            ┆               ┆          ┆ Master.      ┆   ┆        ┆           ┆       ┆          │\n",
              "│            ┆               ┆          ┆ Eugene       ┆   ┆        ┆           ┆       ┆          │\n",
              "│            ┆               ┆          ┆ Joseph       ┆   ┆        ┆           ┆       ┆          │\n",
              "│ 25%        ┆ 996.0         ┆ 1.0      ┆ null         ┆ … ┆ null   ┆ 7.8958    ┆ null  ┆ null     │\n",
              "│ 50%        ┆ 1101.0        ┆ 3.0      ┆ null         ┆ … ┆ null   ┆ 14.4542   ┆ null  ┆ null     │\n",
              "│ 75%        ┆ 1205.0        ┆ 3.0      ┆ null         ┆ … ┆ null   ┆ 31.5      ┆ null  ┆ null     │\n",
              "│ max        ┆ 1309.0        ┆ 3.0      ┆ van          ┆ … ┆ W.E.P. ┆ 512.3292  ┆ G6    ┆ S        │\n",
              "│            ┆               ┆          ┆ Billiard,    ┆   ┆ 5734   ┆           ┆       ┆          │\n",
              "│            ┆               ┆          ┆ Master.      ┆   ┆        ┆           ┆       ┆          │\n",
              "│            ┆               ┆          ┆ Walter Joh…  ┆   ┆        ┆           ┆       ┆          │\n",
              "└────────────┴───────────────┴──────────┴──────────────┴───┴────────┴───────────┴───────┴──────────┘"
            ],
            "text/html": [
              "<div><style>\n",
              ".dataframe > thead > tr,\n",
              ".dataframe > tbody > tr {\n",
              "  text-align: right;\n",
              "  white-space: pre-wrap;\n",
              "}\n",
              "</style>\n",
              "<small>shape: (9, 12)</small><table border=\"1\" class=\"dataframe\"><thead><tr><th>describe</th><th>PassengerId</th><th>Pclass</th><th>Name</th><th>Sex</th><th>Age</th><th>SibSp</th><th>Parch</th><th>Ticket</th><th>Fare</th><th>Cabin</th><th>Embarked</th></tr><tr><td>str</td><td>f64</td><td>f64</td><td>str</td><td>str</td><td>f64</td><td>f64</td><td>f64</td><td>str</td><td>f64</td><td>str</td><td>str</td></tr></thead><tbody><tr><td>&quot;count&quot;</td><td>418.0</td><td>418.0</td><td>&quot;418&quot;</td><td>&quot;418&quot;</td><td>332.0</td><td>418.0</td><td>418.0</td><td>&quot;418&quot;</td><td>417.0</td><td>&quot;91&quot;</td><td>&quot;418&quot;</td></tr><tr><td>&quot;null_count&quot;</td><td>0.0</td><td>0.0</td><td>&quot;0&quot;</td><td>&quot;0&quot;</td><td>86.0</td><td>0.0</td><td>0.0</td><td>&quot;0&quot;</td><td>1.0</td><td>&quot;327&quot;</td><td>&quot;0&quot;</td></tr><tr><td>&quot;mean&quot;</td><td>1100.5</td><td>2.26555</td><td>null</td><td>null</td><td>30.27259</td><td>0.447368</td><td>0.392344</td><td>null</td><td>35.627188</td><td>null</td><td>null</td></tr><tr><td>&quot;std&quot;</td><td>120.810458</td><td>0.841838</td><td>null</td><td>null</td><td>14.181209</td><td>0.89676</td><td>0.981429</td><td>null</td><td>55.907576</td><td>null</td><td>null</td></tr><tr><td>&quot;min&quot;</td><td>892.0</td><td>1.0</td><td>&quot;Abbott, Master…</td><td>&quot;female&quot;</td><td>0.17</td><td>0.0</td><td>0.0</td><td>&quot;110469&quot;</td><td>0.0</td><td>&quot;A11&quot;</td><td>&quot;C&quot;</td></tr><tr><td>&quot;25%&quot;</td><td>996.0</td><td>1.0</td><td>null</td><td>null</td><td>21.0</td><td>0.0</td><td>0.0</td><td>null</td><td>7.8958</td><td>null</td><td>null</td></tr><tr><td>&quot;50%&quot;</td><td>1101.0</td><td>3.0</td><td>null</td><td>null</td><td>27.0</td><td>0.0</td><td>0.0</td><td>null</td><td>14.4542</td><td>null</td><td>null</td></tr><tr><td>&quot;75%&quot;</td><td>1205.0</td><td>3.0</td><td>null</td><td>null</td><td>39.0</td><td>1.0</td><td>0.0</td><td>null</td><td>31.5</td><td>null</td><td>null</td></tr><tr><td>&quot;max&quot;</td><td>1309.0</td><td>3.0</td><td>&quot;van Billiard, …</td><td>&quot;male&quot;</td><td>76.0</td><td>8.0</td><td>9.0</td><td>&quot;W.E.P. 5734&quot;</td><td>512.3292</td><td>&quot;G6&quot;</td><td>&quot;S&quot;</td></tr></tbody></table></div>"
            ]
          },
          "metadata": {},
          "execution_count": 15
        }
      ]
    },
    {
      "cell_type": "code",
      "source": [
        "#ver valores de embarcado\n",
        "pd_df['Embarked'].value_counts()"
      ],
      "metadata": {
        "colab": {
          "base_uri": "https://localhost:8080/"
        },
        "id": "e9fYMSL5aqjD",
        "outputId": "70e90732-29e4-465e-dcbc-fa595faca807"
      },
      "execution_count": null,
      "outputs": [
        {
          "output_type": "execute_result",
          "data": {
            "text/plain": [
              "S    270\n",
              "C    102\n",
              "Q     46\n",
              "Name: Embarked, dtype: int64"
            ]
          },
          "metadata": {},
          "execution_count": 18
        }
      ]
    },
    {
      "cell_type": "code",
      "source": [
        "#ver valores de embarcado polars\n",
        "pl_df[\"Embarked\"].value_counts()"
      ],
      "metadata": {
        "colab": {
          "base_uri": "https://localhost:8080/",
          "height": 192
        },
        "id": "BMQuBVKEcmVP",
        "outputId": "13df67d3-11ce-4474-fa4a-f396e8ae37af"
      },
      "execution_count": null,
      "outputs": [
        {
          "output_type": "execute_result",
          "data": {
            "text/plain": [
              "shape: (3, 2)\n",
              "┌──────────┬───────┐\n",
              "│ Embarked ┆ count │\n",
              "│ ---      ┆ ---   │\n",
              "│ str      ┆ u32   │\n",
              "╞══════════╪═══════╡\n",
              "│ Q        ┆ 46    │\n",
              "│ C        ┆ 102   │\n",
              "│ S        ┆ 270   │\n",
              "└──────────┴───────┘"
            ],
            "text/html": [
              "<div><style>\n",
              ".dataframe > thead > tr,\n",
              ".dataframe > tbody > tr {\n",
              "  text-align: right;\n",
              "  white-space: pre-wrap;\n",
              "}\n",
              "</style>\n",
              "<small>shape: (3, 2)</small><table border=\"1\" class=\"dataframe\"><thead><tr><th>Embarked</th><th>count</th></tr><tr><td>str</td><td>u32</td></tr></thead><tbody><tr><td>&quot;Q&quot;</td><td>46</td></tr><tr><td>&quot;C&quot;</td><td>102</td></tr><tr><td>&quot;S&quot;</td><td>270</td></tr></tbody></table></div>"
            ]
          },
          "metadata": {},
          "execution_count": 19
        }
      ]
    },
    {
      "cell_type": "code",
      "source": [
        "#slice dataframe\n",
        "\n",
        "pd_df[12:28]\n",
        "\n",
        "pl_df[12:28]"
      ],
      "metadata": {
        "id": "L5PQzXV0cuIM"
      },
      "execution_count": null,
      "outputs": []
    },
    {
      "cell_type": "code",
      "source": [
        "#ver si habian adolescentes en el titanic\n",
        "\n",
        "pd_df[pd_df['Age'].between(13, 19)]\n"
      ],
      "metadata": {
        "id": "M7HXCTezdFYJ"
      },
      "execution_count": null,
      "outputs": []
    },
    {
      "cell_type": "code",
      "source": [
        "pl_df.filter(pl_df['Age'].is_between(13, 19))"
      ],
      "metadata": {
        "id": "6Xj93CK4dYmv"
      },
      "execution_count": null,
      "outputs": []
    },
    {
      "cell_type": "code",
      "source": [
        "#llenar valores vacios\n",
        "\n",
        "pd_df['Embarked'].fillna('S', inplace = True)\n"
      ],
      "metadata": {
        "id": "uGSsE217duuo"
      },
      "execution_count": null,
      "outputs": []
    },
    {
      "cell_type": "code",
      "source": [
        "pl_df = pl_df.with_columns(pl.col('Embarked').fill_null('S'))\n"
      ],
      "metadata": {
        "id": "R56ps3BydzcA"
      },
      "execution_count": null,
      "outputs": []
    },
    {
      "cell_type": "code",
      "source": [
        "#agrupar por sexo y clase\n",
        "\n",
        "pd_df.groupby(by = ['Pclass', 'Sex']).count()\n"
      ],
      "metadata": {
        "colab": {
          "base_uri": "https://localhost:8080/",
          "height": 269
        },
        "id": "LGDZBPMUd-zN",
        "outputId": "91fbbb62-2cd8-4134-f78d-f18fa88f2924"
      },
      "execution_count": null,
      "outputs": [
        {
          "output_type": "execute_result",
          "data": {
            "text/plain": [
              "               PassengerId  Name  Age  SibSp  Parch  Ticket  Fare  Cabin  \\\n",
              "Pclass Sex                                                                 \n",
              "1      female           50    50   48     50     50      50    50     40   \n",
              "       male             57    57   50     57     57      57    57     40   \n",
              "2      female           30    30   29     30     30      30    30      3   \n",
              "       male             63    63   59     63     63      63    63      4   \n",
              "3      female           72    72   50     72     72      72    72      1   \n",
              "       male            146   146   96    146    146     146   145      3   \n",
              "\n",
              "               Embarked  \n",
              "Pclass Sex               \n",
              "1      female        50  \n",
              "       male          57  \n",
              "2      female        30  \n",
              "       male          63  \n",
              "3      female        72  \n",
              "       male         146  "
            ],
            "text/html": [
              "\n",
              "  <div id=\"df-ca5e9f2e-46f7-4f33-af10-be6c12b12305\" class=\"colab-df-container\">\n",
              "    <div>\n",
              "<style scoped>\n",
              "    .dataframe tbody tr th:only-of-type {\n",
              "        vertical-align: middle;\n",
              "    }\n",
              "\n",
              "    .dataframe tbody tr th {\n",
              "        vertical-align: top;\n",
              "    }\n",
              "\n",
              "    .dataframe thead th {\n",
              "        text-align: right;\n",
              "    }\n",
              "</style>\n",
              "<table border=\"1\" class=\"dataframe\">\n",
              "  <thead>\n",
              "    <tr style=\"text-align: right;\">\n",
              "      <th></th>\n",
              "      <th></th>\n",
              "      <th>PassengerId</th>\n",
              "      <th>Name</th>\n",
              "      <th>Age</th>\n",
              "      <th>SibSp</th>\n",
              "      <th>Parch</th>\n",
              "      <th>Ticket</th>\n",
              "      <th>Fare</th>\n",
              "      <th>Cabin</th>\n",
              "      <th>Embarked</th>\n",
              "    </tr>\n",
              "    <tr>\n",
              "      <th>Pclass</th>\n",
              "      <th>Sex</th>\n",
              "      <th></th>\n",
              "      <th></th>\n",
              "      <th></th>\n",
              "      <th></th>\n",
              "      <th></th>\n",
              "      <th></th>\n",
              "      <th></th>\n",
              "      <th></th>\n",
              "      <th></th>\n",
              "    </tr>\n",
              "  </thead>\n",
              "  <tbody>\n",
              "    <tr>\n",
              "      <th rowspan=\"2\" valign=\"top\">1</th>\n",
              "      <th>female</th>\n",
              "      <td>50</td>\n",
              "      <td>50</td>\n",
              "      <td>48</td>\n",
              "      <td>50</td>\n",
              "      <td>50</td>\n",
              "      <td>50</td>\n",
              "      <td>50</td>\n",
              "      <td>40</td>\n",
              "      <td>50</td>\n",
              "    </tr>\n",
              "    <tr>\n",
              "      <th>male</th>\n",
              "      <td>57</td>\n",
              "      <td>57</td>\n",
              "      <td>50</td>\n",
              "      <td>57</td>\n",
              "      <td>57</td>\n",
              "      <td>57</td>\n",
              "      <td>57</td>\n",
              "      <td>40</td>\n",
              "      <td>57</td>\n",
              "    </tr>\n",
              "    <tr>\n",
              "      <th rowspan=\"2\" valign=\"top\">2</th>\n",
              "      <th>female</th>\n",
              "      <td>30</td>\n",
              "      <td>30</td>\n",
              "      <td>29</td>\n",
              "      <td>30</td>\n",
              "      <td>30</td>\n",
              "      <td>30</td>\n",
              "      <td>30</td>\n",
              "      <td>3</td>\n",
              "      <td>30</td>\n",
              "    </tr>\n",
              "    <tr>\n",
              "      <th>male</th>\n",
              "      <td>63</td>\n",
              "      <td>63</td>\n",
              "      <td>59</td>\n",
              "      <td>63</td>\n",
              "      <td>63</td>\n",
              "      <td>63</td>\n",
              "      <td>63</td>\n",
              "      <td>4</td>\n",
              "      <td>63</td>\n",
              "    </tr>\n",
              "    <tr>\n",
              "      <th rowspan=\"2\" valign=\"top\">3</th>\n",
              "      <th>female</th>\n",
              "      <td>72</td>\n",
              "      <td>72</td>\n",
              "      <td>50</td>\n",
              "      <td>72</td>\n",
              "      <td>72</td>\n",
              "      <td>72</td>\n",
              "      <td>72</td>\n",
              "      <td>1</td>\n",
              "      <td>72</td>\n",
              "    </tr>\n",
              "    <tr>\n",
              "      <th>male</th>\n",
              "      <td>146</td>\n",
              "      <td>146</td>\n",
              "      <td>96</td>\n",
              "      <td>146</td>\n",
              "      <td>146</td>\n",
              "      <td>146</td>\n",
              "      <td>145</td>\n",
              "      <td>3</td>\n",
              "      <td>146</td>\n",
              "    </tr>\n",
              "  </tbody>\n",
              "</table>\n",
              "</div>\n",
              "    <div class=\"colab-df-buttons\">\n",
              "\n",
              "  <div class=\"colab-df-container\">\n",
              "    <button class=\"colab-df-convert\" onclick=\"convertToInteractive('df-ca5e9f2e-46f7-4f33-af10-be6c12b12305')\"\n",
              "            title=\"Convert this dataframe to an interactive table.\"\n",
              "            style=\"display:none;\">\n",
              "\n",
              "  <svg xmlns=\"http://www.w3.org/2000/svg\" height=\"24px\" viewBox=\"0 -960 960 960\">\n",
              "    <path d=\"M120-120v-720h720v720H120Zm60-500h600v-160H180v160Zm220 220h160v-160H400v160Zm0 220h160v-160H400v160ZM180-400h160v-160H180v160Zm440 0h160v-160H620v160ZM180-180h160v-160H180v160Zm440 0h160v-160H620v160Z\"/>\n",
              "  </svg>\n",
              "    </button>\n",
              "\n",
              "  <style>\n",
              "    .colab-df-container {\n",
              "      display:flex;\n",
              "      gap: 12px;\n",
              "    }\n",
              "\n",
              "    .colab-df-convert {\n",
              "      background-color: #E8F0FE;\n",
              "      border: none;\n",
              "      border-radius: 50%;\n",
              "      cursor: pointer;\n",
              "      display: none;\n",
              "      fill: #1967D2;\n",
              "      height: 32px;\n",
              "      padding: 0 0 0 0;\n",
              "      width: 32px;\n",
              "    }\n",
              "\n",
              "    .colab-df-convert:hover {\n",
              "      background-color: #E2EBFA;\n",
              "      box-shadow: 0px 1px 2px rgba(60, 64, 67, 0.3), 0px 1px 3px 1px rgba(60, 64, 67, 0.15);\n",
              "      fill: #174EA6;\n",
              "    }\n",
              "\n",
              "    .colab-df-buttons div {\n",
              "      margin-bottom: 4px;\n",
              "    }\n",
              "\n",
              "    [theme=dark] .colab-df-convert {\n",
              "      background-color: #3B4455;\n",
              "      fill: #D2E3FC;\n",
              "    }\n",
              "\n",
              "    [theme=dark] .colab-df-convert:hover {\n",
              "      background-color: #434B5C;\n",
              "      box-shadow: 0px 1px 3px 1px rgba(0, 0, 0, 0.15);\n",
              "      filter: drop-shadow(0px 1px 2px rgba(0, 0, 0, 0.3));\n",
              "      fill: #FFFFFF;\n",
              "    }\n",
              "  </style>\n",
              "\n",
              "    <script>\n",
              "      const buttonEl =\n",
              "        document.querySelector('#df-ca5e9f2e-46f7-4f33-af10-be6c12b12305 button.colab-df-convert');\n",
              "      buttonEl.style.display =\n",
              "        google.colab.kernel.accessAllowed ? 'block' : 'none';\n",
              "\n",
              "      async function convertToInteractive(key) {\n",
              "        const element = document.querySelector('#df-ca5e9f2e-46f7-4f33-af10-be6c12b12305');\n",
              "        const dataTable =\n",
              "          await google.colab.kernel.invokeFunction('convertToInteractive',\n",
              "                                                    [key], {});\n",
              "        if (!dataTable) return;\n",
              "\n",
              "        const docLinkHtml = 'Like what you see? Visit the ' +\n",
              "          '<a target=\"_blank\" href=https://colab.research.google.com/notebooks/data_table.ipynb>data table notebook</a>'\n",
              "          + ' to learn more about interactive tables.';\n",
              "        element.innerHTML = '';\n",
              "        dataTable['output_type'] = 'display_data';\n",
              "        await google.colab.output.renderOutput(dataTable, element);\n",
              "        const docLink = document.createElement('div');\n",
              "        docLink.innerHTML = docLinkHtml;\n",
              "        element.appendChild(docLink);\n",
              "      }\n",
              "    </script>\n",
              "  </div>\n",
              "\n",
              "\n",
              "<div id=\"df-df34ef78-3f34-476f-853f-a2fa7a6309c1\">\n",
              "  <button class=\"colab-df-quickchart\" onclick=\"quickchart('df-df34ef78-3f34-476f-853f-a2fa7a6309c1')\"\n",
              "            title=\"Suggest charts\"\n",
              "            style=\"display:none;\">\n",
              "\n",
              "<svg xmlns=\"http://www.w3.org/2000/svg\" height=\"24px\"viewBox=\"0 0 24 24\"\n",
              "     width=\"24px\">\n",
              "    <g>\n",
              "        <path d=\"M19 3H5c-1.1 0-2 .9-2 2v14c0 1.1.9 2 2 2h14c1.1 0 2-.9 2-2V5c0-1.1-.9-2-2-2zM9 17H7v-7h2v7zm4 0h-2V7h2v10zm4 0h-2v-4h2v4z\"/>\n",
              "    </g>\n",
              "</svg>\n",
              "  </button>\n",
              "\n",
              "<style>\n",
              "  .colab-df-quickchart {\n",
              "      --bg-color: #E8F0FE;\n",
              "      --fill-color: #1967D2;\n",
              "      --hover-bg-color: #E2EBFA;\n",
              "      --hover-fill-color: #174EA6;\n",
              "      --disabled-fill-color: #AAA;\n",
              "      --disabled-bg-color: #DDD;\n",
              "  }\n",
              "\n",
              "  [theme=dark] .colab-df-quickchart {\n",
              "      --bg-color: #3B4455;\n",
              "      --fill-color: #D2E3FC;\n",
              "      --hover-bg-color: #434B5C;\n",
              "      --hover-fill-color: #FFFFFF;\n",
              "      --disabled-bg-color: #3B4455;\n",
              "      --disabled-fill-color: #666;\n",
              "  }\n",
              "\n",
              "  .colab-df-quickchart {\n",
              "    background-color: var(--bg-color);\n",
              "    border: none;\n",
              "    border-radius: 50%;\n",
              "    cursor: pointer;\n",
              "    display: none;\n",
              "    fill: var(--fill-color);\n",
              "    height: 32px;\n",
              "    padding: 0;\n",
              "    width: 32px;\n",
              "  }\n",
              "\n",
              "  .colab-df-quickchart:hover {\n",
              "    background-color: var(--hover-bg-color);\n",
              "    box-shadow: 0 1px 2px rgba(60, 64, 67, 0.3), 0 1px 3px 1px rgba(60, 64, 67, 0.15);\n",
              "    fill: var(--button-hover-fill-color);\n",
              "  }\n",
              "\n",
              "  .colab-df-quickchart-complete:disabled,\n",
              "  .colab-df-quickchart-complete:disabled:hover {\n",
              "    background-color: var(--disabled-bg-color);\n",
              "    fill: var(--disabled-fill-color);\n",
              "    box-shadow: none;\n",
              "  }\n",
              "\n",
              "  .colab-df-spinner {\n",
              "    border: 2px solid var(--fill-color);\n",
              "    border-color: transparent;\n",
              "    border-bottom-color: var(--fill-color);\n",
              "    animation:\n",
              "      spin 1s steps(1) infinite;\n",
              "  }\n",
              "\n",
              "  @keyframes spin {\n",
              "    0% {\n",
              "      border-color: transparent;\n",
              "      border-bottom-color: var(--fill-color);\n",
              "      border-left-color: var(--fill-color);\n",
              "    }\n",
              "    20% {\n",
              "      border-color: transparent;\n",
              "      border-left-color: var(--fill-color);\n",
              "      border-top-color: var(--fill-color);\n",
              "    }\n",
              "    30% {\n",
              "      border-color: transparent;\n",
              "      border-left-color: var(--fill-color);\n",
              "      border-top-color: var(--fill-color);\n",
              "      border-right-color: var(--fill-color);\n",
              "    }\n",
              "    40% {\n",
              "      border-color: transparent;\n",
              "      border-right-color: var(--fill-color);\n",
              "      border-top-color: var(--fill-color);\n",
              "    }\n",
              "    60% {\n",
              "      border-color: transparent;\n",
              "      border-right-color: var(--fill-color);\n",
              "    }\n",
              "    80% {\n",
              "      border-color: transparent;\n",
              "      border-right-color: var(--fill-color);\n",
              "      border-bottom-color: var(--fill-color);\n",
              "    }\n",
              "    90% {\n",
              "      border-color: transparent;\n",
              "      border-bottom-color: var(--fill-color);\n",
              "    }\n",
              "  }\n",
              "</style>\n",
              "\n",
              "  <script>\n",
              "    async function quickchart(key) {\n",
              "      const quickchartButtonEl =\n",
              "        document.querySelector('#' + key + ' button');\n",
              "      quickchartButtonEl.disabled = true;  // To prevent multiple clicks.\n",
              "      quickchartButtonEl.classList.add('colab-df-spinner');\n",
              "      try {\n",
              "        const charts = await google.colab.kernel.invokeFunction(\n",
              "            'suggestCharts', [key], {});\n",
              "      } catch (error) {\n",
              "        console.error('Error during call to suggestCharts:', error);\n",
              "      }\n",
              "      quickchartButtonEl.classList.remove('colab-df-spinner');\n",
              "      quickchartButtonEl.classList.add('colab-df-quickchart-complete');\n",
              "    }\n",
              "    (() => {\n",
              "      let quickchartButtonEl =\n",
              "        document.querySelector('#df-df34ef78-3f34-476f-853f-a2fa7a6309c1 button');\n",
              "      quickchartButtonEl.style.display =\n",
              "        google.colab.kernel.accessAllowed ? 'block' : 'none';\n",
              "    })();\n",
              "  </script>\n",
              "</div>\n",
              "\n",
              "    </div>\n",
              "  </div>\n"
            ],
            "application/vnd.google.colaboratory.intrinsic+json": {
              "type": "dataframe",
              "summary": "{\n  \"name\": \"pd_df\",\n  \"rows\": 6,\n  \"fields\": [\n    {\n      \"column\": \"PassengerId\",\n      \"properties\": {\n        \"dtype\": \"number\",\n        \"std\": 39,\n        \"min\": 30,\n        \"max\": 146,\n        \"num_unique_values\": 6,\n        \"samples\": [\n          50,\n          57,\n          146\n        ],\n        \"semantic_type\": \"\",\n        \"description\": \"\"\n      }\n    },\n    {\n      \"column\": \"Name\",\n      \"properties\": {\n        \"dtype\": \"number\",\n        \"std\": 39,\n        \"min\": 30,\n        \"max\": 146,\n        \"num_unique_values\": 6,\n        \"samples\": [\n          50,\n          57,\n          146\n        ],\n        \"semantic_type\": \"\",\n        \"description\": \"\"\n      }\n    },\n    {\n      \"column\": \"Age\",\n      \"properties\": {\n        \"dtype\": \"number\",\n        \"std\": 22,\n        \"min\": 29,\n        \"max\": 96,\n        \"num_unique_values\": 5,\n        \"samples\": [\n          50,\n          96,\n          29\n        ],\n        \"semantic_type\": \"\",\n        \"description\": \"\"\n      }\n    },\n    {\n      \"column\": \"SibSp\",\n      \"properties\": {\n        \"dtype\": \"number\",\n        \"std\": 39,\n        \"min\": 30,\n        \"max\": 146,\n        \"num_unique_values\": 6,\n        \"samples\": [\n          50,\n          57,\n          146\n        ],\n        \"semantic_type\": \"\",\n        \"description\": \"\"\n      }\n    },\n    {\n      \"column\": \"Parch\",\n      \"properties\": {\n        \"dtype\": \"number\",\n        \"std\": 39,\n        \"min\": 30,\n        \"max\": 146,\n        \"num_unique_values\": 6,\n        \"samples\": [\n          50,\n          57,\n          146\n        ],\n        \"semantic_type\": \"\",\n        \"description\": \"\"\n      }\n    },\n    {\n      \"column\": \"Ticket\",\n      \"properties\": {\n        \"dtype\": \"number\",\n        \"std\": 39,\n        \"min\": 30,\n        \"max\": 146,\n        \"num_unique_values\": 6,\n        \"samples\": [\n          50,\n          57,\n          146\n        ],\n        \"semantic_type\": \"\",\n        \"description\": \"\"\n      }\n    },\n    {\n      \"column\": \"Fare\",\n      \"properties\": {\n        \"dtype\": \"number\",\n        \"std\": 39,\n        \"min\": 30,\n        \"max\": 145,\n        \"num_unique_values\": 6,\n        \"samples\": [\n          50,\n          57,\n          145\n        ],\n        \"semantic_type\": \"\",\n        \"description\": \"\"\n      }\n    },\n    {\n      \"column\": \"Cabin\",\n      \"properties\": {\n        \"dtype\": \"number\",\n        \"std\": 19,\n        \"min\": 1,\n        \"max\": 40,\n        \"num_unique_values\": 4,\n        \"samples\": [\n          3,\n          1,\n          40\n        ],\n        \"semantic_type\": \"\",\n        \"description\": \"\"\n      }\n    },\n    {\n      \"column\": \"Embarked\",\n      \"properties\": {\n        \"dtype\": \"number\",\n        \"std\": 39,\n        \"min\": 30,\n        \"max\": 146,\n        \"num_unique_values\": 6,\n        \"samples\": [\n          50,\n          57,\n          146\n        ],\n        \"semantic_type\": \"\",\n        \"description\": \"\"\n      }\n    }\n  ]\n}"
            }
          },
          "metadata": {},
          "execution_count": 33
        }
      ]
    },
    {
      "cell_type": "code",
      "source": [
        "pl_df.groupby(by = ['Pclass', 'Sex']).count()"
      ],
      "metadata": {
        "colab": {
          "base_uri": "https://localhost:8080/",
          "height": 342
        },
        "id": "VtOT88oneE5q",
        "outputId": "eef90729-a5d3-4d15-e10c-ba8452a33319"
      },
      "execution_count": null,
      "outputs": [
        {
          "output_type": "stream",
          "name": "stderr",
          "text": [
            "<ipython-input-35-d28c6a695643>:1: DeprecationWarning: `groupby` is deprecated. It has been renamed to `group_by`.\n",
            "  pl_df.groupby(by = ['Pclass', 'Sex']).count()\n"
          ]
        },
        {
          "output_type": "execute_result",
          "data": {
            "text/plain": [
              "shape: (6, 3)\n",
              "┌────────┬────────┬───────┐\n",
              "│ Pclass ┆ Sex    ┆ count │\n",
              "│ ---    ┆ ---    ┆ ---   │\n",
              "│ i64    ┆ str    ┆ u32   │\n",
              "╞════════╪════════╪═══════╡\n",
              "│ 3      ┆ male   ┆ 146   │\n",
              "│ 3      ┆ female ┆ 72    │\n",
              "│ 2      ┆ male   ┆ 63    │\n",
              "│ 1      ┆ female ┆ 50    │\n",
              "│ 1      ┆ male   ┆ 57    │\n",
              "│ 2      ┆ female ┆ 30    │\n",
              "└────────┴────────┴───────┘"
            ],
            "text/html": [
              "<div><style>\n",
              ".dataframe > thead > tr,\n",
              ".dataframe > tbody > tr {\n",
              "  text-align: right;\n",
              "  white-space: pre-wrap;\n",
              "}\n",
              "</style>\n",
              "<small>shape: (6, 3)</small><table border=\"1\" class=\"dataframe\"><thead><tr><th>Pclass</th><th>Sex</th><th>count</th></tr><tr><td>i64</td><td>str</td><td>u32</td></tr></thead><tbody><tr><td>3</td><td>&quot;male&quot;</td><td>146</td></tr><tr><td>3</td><td>&quot;female&quot;</td><td>72</td></tr><tr><td>2</td><td>&quot;male&quot;</td><td>63</td></tr><tr><td>1</td><td>&quot;female&quot;</td><td>50</td></tr><tr><td>1</td><td>&quot;male&quot;</td><td>57</td></tr><tr><td>2</td><td>&quot;female&quot;</td><td>30</td></tr></tbody></table></div>"
            ]
          },
          "metadata": {},
          "execution_count": 35
        }
      ]
    },
    {
      "cell_type": "markdown",
      "source": [
        "## Ordenar valores"
      ],
      "metadata": {
        "id": "Ys9TkP2NlBr_"
      }
    },
    {
      "cell_type": "code",
      "source": [
        "pd_df.sort_values(\"Age\")\n"
      ],
      "metadata": {
        "colab": {
          "base_uri": "https://localhost:8080/",
          "height": 878
        },
        "id": "Nf82kfW-j67H",
        "outputId": "2b28ca84-c09c-4d20-ac30-1f595468feae"
      },
      "execution_count": null,
      "outputs": [
        {
          "output_type": "execute_result",
          "data": {
            "text/plain": [
              "     PassengerId  Pclass                                     Name     Sex  \\\n",
              "354         1246       3  Dean, Miss. Elizabeth Gladys Millvina\"\"  female   \n",
              "201         1093       3  Danbom, Master. Gilbert Sigvard Emanuel    male   \n",
              "281         1173       3           Peacock, Master. Alfred Edward    male   \n",
              "307         1199       3                Aks, Master. Philip Frank    male   \n",
              "250         1142       2                    West, Miss. Barbara J  female   \n",
              "..           ...     ...                                      ...     ...   \n",
              "408         1300       3          Riordan, Miss. Johanna Hannah\"\"  female   \n",
              "410         1302       3                   Naughton, Miss. Hannah  female   \n",
              "413         1305       3                       Spector, Mr. Woolf    male   \n",
              "416         1308       3                      Ware, Mr. Frederick    male   \n",
              "417         1309       3                 Peter, Master. Michael J    male   \n",
              "\n",
              "      Age  SibSp  Parch              Ticket     Fare Cabin Embarked  \n",
              "354  0.17      1      2           C.A. 2315  20.5750   NaN        S  \n",
              "201  0.33      0      2              347080  14.4000   NaN        S  \n",
              "281  0.75      1      1  SOTON/O.Q. 3101315  13.7750   NaN        S  \n",
              "307  0.83      0      1              392091   9.3500   NaN        S  \n",
              "250  0.92      1      2          C.A. 34651  27.7500   NaN        S  \n",
              "..    ...    ...    ...                 ...      ...   ...      ...  \n",
              "408   NaN      0      0              334915   7.7208   NaN        Q  \n",
              "410   NaN      0      0              365237   7.7500   NaN        Q  \n",
              "413   NaN      0      0           A.5. 3236   8.0500   NaN        S  \n",
              "416   NaN      0      0              359309   8.0500   NaN        S  \n",
              "417   NaN      1      1                2668  22.3583   NaN        C  \n",
              "\n",
              "[418 rows x 11 columns]"
            ],
            "text/html": [
              "\n",
              "  <div id=\"df-b168c5bc-a0ed-45e1-8cc8-79e939073676\" class=\"colab-df-container\">\n",
              "    <div>\n",
              "<style scoped>\n",
              "    .dataframe tbody tr th:only-of-type {\n",
              "        vertical-align: middle;\n",
              "    }\n",
              "\n",
              "    .dataframe tbody tr th {\n",
              "        vertical-align: top;\n",
              "    }\n",
              "\n",
              "    .dataframe thead th {\n",
              "        text-align: right;\n",
              "    }\n",
              "</style>\n",
              "<table border=\"1\" class=\"dataframe\">\n",
              "  <thead>\n",
              "    <tr style=\"text-align: right;\">\n",
              "      <th></th>\n",
              "      <th>PassengerId</th>\n",
              "      <th>Pclass</th>\n",
              "      <th>Name</th>\n",
              "      <th>Sex</th>\n",
              "      <th>Age</th>\n",
              "      <th>SibSp</th>\n",
              "      <th>Parch</th>\n",
              "      <th>Ticket</th>\n",
              "      <th>Fare</th>\n",
              "      <th>Cabin</th>\n",
              "      <th>Embarked</th>\n",
              "    </tr>\n",
              "  </thead>\n",
              "  <tbody>\n",
              "    <tr>\n",
              "      <th>354</th>\n",
              "      <td>1246</td>\n",
              "      <td>3</td>\n",
              "      <td>Dean, Miss. Elizabeth Gladys Millvina\"\"</td>\n",
              "      <td>female</td>\n",
              "      <td>0.17</td>\n",
              "      <td>1</td>\n",
              "      <td>2</td>\n",
              "      <td>C.A. 2315</td>\n",
              "      <td>20.5750</td>\n",
              "      <td>NaN</td>\n",
              "      <td>S</td>\n",
              "    </tr>\n",
              "    <tr>\n",
              "      <th>201</th>\n",
              "      <td>1093</td>\n",
              "      <td>3</td>\n",
              "      <td>Danbom, Master. Gilbert Sigvard Emanuel</td>\n",
              "      <td>male</td>\n",
              "      <td>0.33</td>\n",
              "      <td>0</td>\n",
              "      <td>2</td>\n",
              "      <td>347080</td>\n",
              "      <td>14.4000</td>\n",
              "      <td>NaN</td>\n",
              "      <td>S</td>\n",
              "    </tr>\n",
              "    <tr>\n",
              "      <th>281</th>\n",
              "      <td>1173</td>\n",
              "      <td>3</td>\n",
              "      <td>Peacock, Master. Alfred Edward</td>\n",
              "      <td>male</td>\n",
              "      <td>0.75</td>\n",
              "      <td>1</td>\n",
              "      <td>1</td>\n",
              "      <td>SOTON/O.Q. 3101315</td>\n",
              "      <td>13.7750</td>\n",
              "      <td>NaN</td>\n",
              "      <td>S</td>\n",
              "    </tr>\n",
              "    <tr>\n",
              "      <th>307</th>\n",
              "      <td>1199</td>\n",
              "      <td>3</td>\n",
              "      <td>Aks, Master. Philip Frank</td>\n",
              "      <td>male</td>\n",
              "      <td>0.83</td>\n",
              "      <td>0</td>\n",
              "      <td>1</td>\n",
              "      <td>392091</td>\n",
              "      <td>9.3500</td>\n",
              "      <td>NaN</td>\n",
              "      <td>S</td>\n",
              "    </tr>\n",
              "    <tr>\n",
              "      <th>250</th>\n",
              "      <td>1142</td>\n",
              "      <td>2</td>\n",
              "      <td>West, Miss. Barbara J</td>\n",
              "      <td>female</td>\n",
              "      <td>0.92</td>\n",
              "      <td>1</td>\n",
              "      <td>2</td>\n",
              "      <td>C.A. 34651</td>\n",
              "      <td>27.7500</td>\n",
              "      <td>NaN</td>\n",
              "      <td>S</td>\n",
              "    </tr>\n",
              "    <tr>\n",
              "      <th>...</th>\n",
              "      <td>...</td>\n",
              "      <td>...</td>\n",
              "      <td>...</td>\n",
              "      <td>...</td>\n",
              "      <td>...</td>\n",
              "      <td>...</td>\n",
              "      <td>...</td>\n",
              "      <td>...</td>\n",
              "      <td>...</td>\n",
              "      <td>...</td>\n",
              "      <td>...</td>\n",
              "    </tr>\n",
              "    <tr>\n",
              "      <th>408</th>\n",
              "      <td>1300</td>\n",
              "      <td>3</td>\n",
              "      <td>Riordan, Miss. Johanna Hannah\"\"</td>\n",
              "      <td>female</td>\n",
              "      <td>NaN</td>\n",
              "      <td>0</td>\n",
              "      <td>0</td>\n",
              "      <td>334915</td>\n",
              "      <td>7.7208</td>\n",
              "      <td>NaN</td>\n",
              "      <td>Q</td>\n",
              "    </tr>\n",
              "    <tr>\n",
              "      <th>410</th>\n",
              "      <td>1302</td>\n",
              "      <td>3</td>\n",
              "      <td>Naughton, Miss. Hannah</td>\n",
              "      <td>female</td>\n",
              "      <td>NaN</td>\n",
              "      <td>0</td>\n",
              "      <td>0</td>\n",
              "      <td>365237</td>\n",
              "      <td>7.7500</td>\n",
              "      <td>NaN</td>\n",
              "      <td>Q</td>\n",
              "    </tr>\n",
              "    <tr>\n",
              "      <th>413</th>\n",
              "      <td>1305</td>\n",
              "      <td>3</td>\n",
              "      <td>Spector, Mr. Woolf</td>\n",
              "      <td>male</td>\n",
              "      <td>NaN</td>\n",
              "      <td>0</td>\n",
              "      <td>0</td>\n",
              "      <td>A.5. 3236</td>\n",
              "      <td>8.0500</td>\n",
              "      <td>NaN</td>\n",
              "      <td>S</td>\n",
              "    </tr>\n",
              "    <tr>\n",
              "      <th>416</th>\n",
              "      <td>1308</td>\n",
              "      <td>3</td>\n",
              "      <td>Ware, Mr. Frederick</td>\n",
              "      <td>male</td>\n",
              "      <td>NaN</td>\n",
              "      <td>0</td>\n",
              "      <td>0</td>\n",
              "      <td>359309</td>\n",
              "      <td>8.0500</td>\n",
              "      <td>NaN</td>\n",
              "      <td>S</td>\n",
              "    </tr>\n",
              "    <tr>\n",
              "      <th>417</th>\n",
              "      <td>1309</td>\n",
              "      <td>3</td>\n",
              "      <td>Peter, Master. Michael J</td>\n",
              "      <td>male</td>\n",
              "      <td>NaN</td>\n",
              "      <td>1</td>\n",
              "      <td>1</td>\n",
              "      <td>2668</td>\n",
              "      <td>22.3583</td>\n",
              "      <td>NaN</td>\n",
              "      <td>C</td>\n",
              "    </tr>\n",
              "  </tbody>\n",
              "</table>\n",
              "<p>418 rows × 11 columns</p>\n",
              "</div>\n",
              "    <div class=\"colab-df-buttons\">\n",
              "\n",
              "  <div class=\"colab-df-container\">\n",
              "    <button class=\"colab-df-convert\" onclick=\"convertToInteractive('df-b168c5bc-a0ed-45e1-8cc8-79e939073676')\"\n",
              "            title=\"Convert this dataframe to an interactive table.\"\n",
              "            style=\"display:none;\">\n",
              "\n",
              "  <svg xmlns=\"http://www.w3.org/2000/svg\" height=\"24px\" viewBox=\"0 -960 960 960\">\n",
              "    <path d=\"M120-120v-720h720v720H120Zm60-500h600v-160H180v160Zm220 220h160v-160H400v160Zm0 220h160v-160H400v160ZM180-400h160v-160H180v160Zm440 0h160v-160H620v160ZM180-180h160v-160H180v160Zm440 0h160v-160H620v160Z\"/>\n",
              "  </svg>\n",
              "    </button>\n",
              "\n",
              "  <style>\n",
              "    .colab-df-container {\n",
              "      display:flex;\n",
              "      gap: 12px;\n",
              "    }\n",
              "\n",
              "    .colab-df-convert {\n",
              "      background-color: #E8F0FE;\n",
              "      border: none;\n",
              "      border-radius: 50%;\n",
              "      cursor: pointer;\n",
              "      display: none;\n",
              "      fill: #1967D2;\n",
              "      height: 32px;\n",
              "      padding: 0 0 0 0;\n",
              "      width: 32px;\n",
              "    }\n",
              "\n",
              "    .colab-df-convert:hover {\n",
              "      background-color: #E2EBFA;\n",
              "      box-shadow: 0px 1px 2px rgba(60, 64, 67, 0.3), 0px 1px 3px 1px rgba(60, 64, 67, 0.15);\n",
              "      fill: #174EA6;\n",
              "    }\n",
              "\n",
              "    .colab-df-buttons div {\n",
              "      margin-bottom: 4px;\n",
              "    }\n",
              "\n",
              "    [theme=dark] .colab-df-convert {\n",
              "      background-color: #3B4455;\n",
              "      fill: #D2E3FC;\n",
              "    }\n",
              "\n",
              "    [theme=dark] .colab-df-convert:hover {\n",
              "      background-color: #434B5C;\n",
              "      box-shadow: 0px 1px 3px 1px rgba(0, 0, 0, 0.15);\n",
              "      filter: drop-shadow(0px 1px 2px rgba(0, 0, 0, 0.3));\n",
              "      fill: #FFFFFF;\n",
              "    }\n",
              "  </style>\n",
              "\n",
              "    <script>\n",
              "      const buttonEl =\n",
              "        document.querySelector('#df-b168c5bc-a0ed-45e1-8cc8-79e939073676 button.colab-df-convert');\n",
              "      buttonEl.style.display =\n",
              "        google.colab.kernel.accessAllowed ? 'block' : 'none';\n",
              "\n",
              "      async function convertToInteractive(key) {\n",
              "        const element = document.querySelector('#df-b168c5bc-a0ed-45e1-8cc8-79e939073676');\n",
              "        const dataTable =\n",
              "          await google.colab.kernel.invokeFunction('convertToInteractive',\n",
              "                                                    [key], {});\n",
              "        if (!dataTable) return;\n",
              "\n",
              "        const docLinkHtml = 'Like what you see? Visit the ' +\n",
              "          '<a target=\"_blank\" href=https://colab.research.google.com/notebooks/data_table.ipynb>data table notebook</a>'\n",
              "          + ' to learn more about interactive tables.';\n",
              "        element.innerHTML = '';\n",
              "        dataTable['output_type'] = 'display_data';\n",
              "        await google.colab.output.renderOutput(dataTable, element);\n",
              "        const docLink = document.createElement('div');\n",
              "        docLink.innerHTML = docLinkHtml;\n",
              "        element.appendChild(docLink);\n",
              "      }\n",
              "    </script>\n",
              "  </div>\n",
              "\n",
              "\n",
              "<div id=\"df-3145d572-b513-448f-9171-60fd18091829\">\n",
              "  <button class=\"colab-df-quickchart\" onclick=\"quickchart('df-3145d572-b513-448f-9171-60fd18091829')\"\n",
              "            title=\"Suggest charts\"\n",
              "            style=\"display:none;\">\n",
              "\n",
              "<svg xmlns=\"http://www.w3.org/2000/svg\" height=\"24px\"viewBox=\"0 0 24 24\"\n",
              "     width=\"24px\">\n",
              "    <g>\n",
              "        <path d=\"M19 3H5c-1.1 0-2 .9-2 2v14c0 1.1.9 2 2 2h14c1.1 0 2-.9 2-2V5c0-1.1-.9-2-2-2zM9 17H7v-7h2v7zm4 0h-2V7h2v10zm4 0h-2v-4h2v4z\"/>\n",
              "    </g>\n",
              "</svg>\n",
              "  </button>\n",
              "\n",
              "<style>\n",
              "  .colab-df-quickchart {\n",
              "      --bg-color: #E8F0FE;\n",
              "      --fill-color: #1967D2;\n",
              "      --hover-bg-color: #E2EBFA;\n",
              "      --hover-fill-color: #174EA6;\n",
              "      --disabled-fill-color: #AAA;\n",
              "      --disabled-bg-color: #DDD;\n",
              "  }\n",
              "\n",
              "  [theme=dark] .colab-df-quickchart {\n",
              "      --bg-color: #3B4455;\n",
              "      --fill-color: #D2E3FC;\n",
              "      --hover-bg-color: #434B5C;\n",
              "      --hover-fill-color: #FFFFFF;\n",
              "      --disabled-bg-color: #3B4455;\n",
              "      --disabled-fill-color: #666;\n",
              "  }\n",
              "\n",
              "  .colab-df-quickchart {\n",
              "    background-color: var(--bg-color);\n",
              "    border: none;\n",
              "    border-radius: 50%;\n",
              "    cursor: pointer;\n",
              "    display: none;\n",
              "    fill: var(--fill-color);\n",
              "    height: 32px;\n",
              "    padding: 0;\n",
              "    width: 32px;\n",
              "  }\n",
              "\n",
              "  .colab-df-quickchart:hover {\n",
              "    background-color: var(--hover-bg-color);\n",
              "    box-shadow: 0 1px 2px rgba(60, 64, 67, 0.3), 0 1px 3px 1px rgba(60, 64, 67, 0.15);\n",
              "    fill: var(--button-hover-fill-color);\n",
              "  }\n",
              "\n",
              "  .colab-df-quickchart-complete:disabled,\n",
              "  .colab-df-quickchart-complete:disabled:hover {\n",
              "    background-color: var(--disabled-bg-color);\n",
              "    fill: var(--disabled-fill-color);\n",
              "    box-shadow: none;\n",
              "  }\n",
              "\n",
              "  .colab-df-spinner {\n",
              "    border: 2px solid var(--fill-color);\n",
              "    border-color: transparent;\n",
              "    border-bottom-color: var(--fill-color);\n",
              "    animation:\n",
              "      spin 1s steps(1) infinite;\n",
              "  }\n",
              "\n",
              "  @keyframes spin {\n",
              "    0% {\n",
              "      border-color: transparent;\n",
              "      border-bottom-color: var(--fill-color);\n",
              "      border-left-color: var(--fill-color);\n",
              "    }\n",
              "    20% {\n",
              "      border-color: transparent;\n",
              "      border-left-color: var(--fill-color);\n",
              "      border-top-color: var(--fill-color);\n",
              "    }\n",
              "    30% {\n",
              "      border-color: transparent;\n",
              "      border-left-color: var(--fill-color);\n",
              "      border-top-color: var(--fill-color);\n",
              "      border-right-color: var(--fill-color);\n",
              "    }\n",
              "    40% {\n",
              "      border-color: transparent;\n",
              "      border-right-color: var(--fill-color);\n",
              "      border-top-color: var(--fill-color);\n",
              "    }\n",
              "    60% {\n",
              "      border-color: transparent;\n",
              "      border-right-color: var(--fill-color);\n",
              "    }\n",
              "    80% {\n",
              "      border-color: transparent;\n",
              "      border-right-color: var(--fill-color);\n",
              "      border-bottom-color: var(--fill-color);\n",
              "    }\n",
              "    90% {\n",
              "      border-color: transparent;\n",
              "      border-bottom-color: var(--fill-color);\n",
              "    }\n",
              "  }\n",
              "</style>\n",
              "\n",
              "  <script>\n",
              "    async function quickchart(key) {\n",
              "      const quickchartButtonEl =\n",
              "        document.querySelector('#' + key + ' button');\n",
              "      quickchartButtonEl.disabled = true;  // To prevent multiple clicks.\n",
              "      quickchartButtonEl.classList.add('colab-df-spinner');\n",
              "      try {\n",
              "        const charts = await google.colab.kernel.invokeFunction(\n",
              "            'suggestCharts', [key], {});\n",
              "      } catch (error) {\n",
              "        console.error('Error during call to suggestCharts:', error);\n",
              "      }\n",
              "      quickchartButtonEl.classList.remove('colab-df-spinner');\n",
              "      quickchartButtonEl.classList.add('colab-df-quickchart-complete');\n",
              "    }\n",
              "    (() => {\n",
              "      let quickchartButtonEl =\n",
              "        document.querySelector('#df-3145d572-b513-448f-9171-60fd18091829 button');\n",
              "      quickchartButtonEl.style.display =\n",
              "        google.colab.kernel.accessAllowed ? 'block' : 'none';\n",
              "    })();\n",
              "  </script>\n",
              "</div>\n",
              "\n",
              "    </div>\n",
              "  </div>\n"
            ],
            "application/vnd.google.colaboratory.intrinsic+json": {
              "type": "dataframe",
              "summary": "{\n  \"name\": \"pd_df\",\n  \"rows\": 418,\n  \"fields\": [\n    {\n      \"column\": \"PassengerId\",\n      \"properties\": {\n        \"dtype\": \"number\",\n        \"std\": 120,\n        \"min\": 892,\n        \"max\": 1309,\n        \"num_unique_values\": 418,\n        \"samples\": [\n          1044,\n          894,\n          1160\n        ],\n        \"semantic_type\": \"\",\n        \"description\": \"\"\n      }\n    },\n    {\n      \"column\": \"Pclass\",\n      \"properties\": {\n        \"dtype\": \"number\",\n        \"std\": 0,\n        \"min\": 1,\n        \"max\": 3,\n        \"num_unique_values\": 3,\n        \"samples\": [\n          3,\n          2,\n          1\n        ],\n        \"semantic_type\": \"\",\n        \"description\": \"\"\n      }\n    },\n    {\n      \"column\": \"Name\",\n      \"properties\": {\n        \"dtype\": \"string\",\n        \"num_unique_values\": 418,\n        \"samples\": [\n          \"Storey, Mr. Thomas\",\n          \"Myles, Mr. Thomas Francis\",\n          \"Howard, Miss. May Elizabeth\"\n        ],\n        \"semantic_type\": \"\",\n        \"description\": \"\"\n      }\n    },\n    {\n      \"column\": \"Sex\",\n      \"properties\": {\n        \"dtype\": \"category\",\n        \"num_unique_values\": 2,\n        \"samples\": [\n          \"male\",\n          \"female\"\n        ],\n        \"semantic_type\": \"\",\n        \"description\": \"\"\n      }\n    },\n    {\n      \"column\": \"Age\",\n      \"properties\": {\n        \"dtype\": \"number\",\n        \"std\": 14.181209235624422,\n        \"min\": 0.17,\n        \"max\": 76.0,\n        \"num_unique_values\": 79,\n        \"samples\": [\n          24.0,\n          0.17\n        ],\n        \"semantic_type\": \"\",\n        \"description\": \"\"\n      }\n    },\n    {\n      \"column\": \"SibSp\",\n      \"properties\": {\n        \"dtype\": \"number\",\n        \"std\": 0,\n        \"min\": 0,\n        \"max\": 8,\n        \"num_unique_values\": 7,\n        \"samples\": [\n          1,\n          0\n        ],\n        \"semantic_type\": \"\",\n        \"description\": \"\"\n      }\n    },\n    {\n      \"column\": \"Parch\",\n      \"properties\": {\n        \"dtype\": \"number\",\n        \"std\": 0,\n        \"min\": 0,\n        \"max\": 9,\n        \"num_unique_values\": 8,\n        \"samples\": [\n          1,\n          5\n        ],\n        \"semantic_type\": \"\",\n        \"description\": \"\"\n      }\n    },\n    {\n      \"column\": \"Ticket\",\n      \"properties\": {\n        \"dtype\": \"string\",\n        \"num_unique_values\": 363,\n        \"samples\": [\n          \"2003\",\n          \"S.O.C. 14879\"\n        ],\n        \"semantic_type\": \"\",\n        \"description\": \"\"\n      }\n    },\n    {\n      \"column\": \"Fare\",\n      \"properties\": {\n        \"dtype\": \"number\",\n        \"std\": 55.907576179973844,\n        \"min\": 0.0,\n        \"max\": 512.3292,\n        \"num_unique_values\": 169,\n        \"samples\": [\n          25.7,\n          7.8958\n        ],\n        \"semantic_type\": \"\",\n        \"description\": \"\"\n      }\n    },\n    {\n      \"column\": \"Cabin\",\n      \"properties\": {\n        \"dtype\": \"category\",\n        \"num_unique_values\": 76,\n        \"samples\": [\n          \"D30\",\n          \"A29\"\n        ],\n        \"semantic_type\": \"\",\n        \"description\": \"\"\n      }\n    },\n    {\n      \"column\": \"Embarked\",\n      \"properties\": {\n        \"dtype\": \"category\",\n        \"num_unique_values\": 3,\n        \"samples\": [\n          \"S\",\n          \"C\"\n        ],\n        \"semantic_type\": \"\",\n        \"description\": \"\"\n      }\n    }\n  ]\n}"
            }
          },
          "metadata": {},
          "execution_count": 37
        }
      ]
    },
    {
      "cell_type": "code",
      "source": [
        "pl_df.sort(\"Age\")"
      ],
      "metadata": {
        "colab": {
          "base_uri": "https://localhost:8080/",
          "height": 1000
        },
        "id": "1hhwyvFMkKLW",
        "outputId": "96a7c0c5-b394-488c-c709-3710049dba20"
      },
      "execution_count": null,
      "outputs": [
        {
          "output_type": "execute_result",
          "data": {
            "text/plain": [
              "shape: (418, 11)\n",
              "┌─────────────┬────────┬─────────────────┬────────┬───┬────────────┬──────────┬─────────┬──────────┐\n",
              "│ PassengerId ┆ Pclass ┆ Name            ┆ Sex    ┆ … ┆ Ticket     ┆ Fare     ┆ Cabin   ┆ Embarked │\n",
              "│ ---         ┆ ---    ┆ ---             ┆ ---    ┆   ┆ ---        ┆ ---      ┆ ---     ┆ ---      │\n",
              "│ i64         ┆ i64    ┆ str             ┆ str    ┆   ┆ str        ┆ f64      ┆ str     ┆ str      │\n",
              "╞═════════════╪════════╪═════════════════╪════════╪═══╪════════════╪══════════╪═════════╪══════════╡\n",
              "│ 902         ┆ 3      ┆ Ilieff, Mr.     ┆ male   ┆ … ┆ 349220     ┆ 7.8958   ┆ null    ┆ S        │\n",
              "│             ┆        ┆ Ylio            ┆        ┆   ┆            ┆          ┆         ┆          │\n",
              "│ 914         ┆ 1      ┆ Flegenheim,     ┆ female ┆ … ┆ PC 17598   ┆ 31.6833  ┆ null    ┆ S        │\n",
              "│             ┆        ┆ Mrs. Alfred     ┆        ┆   ┆            ┆          ┆         ┆          │\n",
              "│             ┆        ┆ (Antoine…       ┆        ┆   ┆            ┆          ┆         ┆          │\n",
              "│ 921         ┆ 3      ┆ Samaan, Mr.     ┆ male   ┆ … ┆ 2662       ┆ 21.6792  ┆ null    ┆ C        │\n",
              "│             ┆        ┆ Elias           ┆        ┆   ┆            ┆          ┆         ┆          │\n",
              "│ 925         ┆ 3      ┆ Johnston, Mrs.  ┆ female ┆ … ┆ W./C. 6607 ┆ 23.45    ┆ null    ┆ S        │\n",
              "│             ┆        ┆ Andrew G        ┆        ┆   ┆            ┆          ┆         ┆          │\n",
              "│             ┆        ┆ (Elizabe…       ┆        ┆   ┆            ┆          ┆         ┆          │\n",
              "│ …           ┆ …      ┆ …               ┆ …      ┆ … ┆ …          ┆ …        ┆ …       ┆ …        │\n",
              "│ 1128        ┆ 1      ┆ Warren, Mr.     ┆ male   ┆ … ┆ 110813     ┆ 75.25    ┆ D37     ┆ C        │\n",
              "│             ┆        ┆ Frank Manley    ┆        ┆   ┆            ┆          ┆         ┆          │\n",
              "│ 1197        ┆ 1      ┆ Crosby, Mrs.    ┆ female ┆ … ┆ 112901     ┆ 26.55    ┆ B26     ┆ S        │\n",
              "│             ┆        ┆ Edward Gifford  ┆        ┆   ┆            ┆          ┆         ┆          │\n",
              "│             ┆        ┆ (Cat…           ┆        ┆   ┆            ┆          ┆         ┆          │\n",
              "│ 973         ┆ 1      ┆ Straus, Mr.     ┆ male   ┆ … ┆ PC 17483   ┆ 221.7792 ┆ C55 C57 ┆ S        │\n",
              "│             ┆        ┆ Isidor          ┆        ┆   ┆            ┆          ┆         ┆          │\n",
              "│ 988         ┆ 1      ┆ Cavendish, Mrs. ┆ female ┆ … ┆ 19877      ┆ 78.85    ┆ C46     ┆ S        │\n",
              "│             ┆        ┆ Tyrell William  ┆        ┆   ┆            ┆          ┆         ┆          │\n",
              "│             ┆        ┆ (…              ┆        ┆   ┆            ┆          ┆         ┆          │\n",
              "└─────────────┴────────┴─────────────────┴────────┴───┴────────────┴──────────┴─────────┴──────────┘"
            ],
            "text/html": [
              "<div><style>\n",
              ".dataframe > thead > tr,\n",
              ".dataframe > tbody > tr {\n",
              "  text-align: right;\n",
              "  white-space: pre-wrap;\n",
              "}\n",
              "</style>\n",
              "<small>shape: (418, 11)</small><table border=\"1\" class=\"dataframe\"><thead><tr><th>PassengerId</th><th>Pclass</th><th>Name</th><th>Sex</th><th>Age</th><th>SibSp</th><th>Parch</th><th>Ticket</th><th>Fare</th><th>Cabin</th><th>Embarked</th></tr><tr><td>i64</td><td>i64</td><td>str</td><td>str</td><td>f64</td><td>i64</td><td>i64</td><td>str</td><td>f64</td><td>str</td><td>str</td></tr></thead><tbody><tr><td>902</td><td>3</td><td>&quot;Ilieff, Mr. Yl…</td><td>&quot;male&quot;</td><td>null</td><td>0</td><td>0</td><td>&quot;349220&quot;</td><td>7.8958</td><td>null</td><td>&quot;S&quot;</td></tr><tr><td>914</td><td>1</td><td>&quot;Flegenheim, Mr…</td><td>&quot;female&quot;</td><td>null</td><td>0</td><td>0</td><td>&quot;PC 17598&quot;</td><td>31.6833</td><td>null</td><td>&quot;S&quot;</td></tr><tr><td>921</td><td>3</td><td>&quot;Samaan, Mr. El…</td><td>&quot;male&quot;</td><td>null</td><td>2</td><td>0</td><td>&quot;2662&quot;</td><td>21.6792</td><td>null</td><td>&quot;C&quot;</td></tr><tr><td>925</td><td>3</td><td>&quot;Johnston, Mrs.…</td><td>&quot;female&quot;</td><td>null</td><td>1</td><td>2</td><td>&quot;W./C. 6607&quot;</td><td>23.45</td><td>null</td><td>&quot;S&quot;</td></tr><tr><td>928</td><td>3</td><td>&quot;Roth, Miss. Sa…</td><td>&quot;female&quot;</td><td>null</td><td>0</td><td>0</td><td>&quot;342712&quot;</td><td>8.05</td><td>null</td><td>&quot;S&quot;</td></tr><tr><td>931</td><td>3</td><td>&quot;Hee, Mr. Ling&quot;</td><td>&quot;male&quot;</td><td>null</td><td>0</td><td>0</td><td>&quot;1601&quot;</td><td>56.4958</td><td>null</td><td>&quot;S&quot;</td></tr><tr><td>933</td><td>1</td><td>&quot;Franklin, Mr. …</td><td>&quot;male&quot;</td><td>null</td><td>0</td><td>0</td><td>&quot;113778&quot;</td><td>26.55</td><td>&quot;D34&quot;</td><td>&quot;S&quot;</td></tr><tr><td>939</td><td>3</td><td>&quot;Shaughnessy, M…</td><td>&quot;male&quot;</td><td>null</td><td>0</td><td>0</td><td>&quot;370374&quot;</td><td>7.75</td><td>null</td><td>&quot;Q&quot;</td></tr><tr><td>946</td><td>2</td><td>&quot;Mangiavacchi, …</td><td>&quot;male&quot;</td><td>null</td><td>0</td><td>0</td><td>&quot;SC/A.3 2861&quot;</td><td>15.5792</td><td>null</td><td>&quot;C&quot;</td></tr><tr><td>950</td><td>3</td><td>&quot;Davison, Mr. T…</td><td>&quot;male&quot;</td><td>null</td><td>1</td><td>0</td><td>&quot;386525&quot;</td><td>16.1</td><td>null</td><td>&quot;S&quot;</td></tr><tr><td>957</td><td>2</td><td>&quot;Corey, Mrs. Pe…</td><td>&quot;female&quot;</td><td>null</td><td>0</td><td>0</td><td>&quot;F.C.C. 13534&quot;</td><td>21.0</td><td>null</td><td>&quot;S&quot;</td></tr><tr><td>968</td><td>3</td><td>&quot;Miles, Mr. Fra…</td><td>&quot;male&quot;</td><td>null</td><td>0</td><td>0</td><td>&quot;359306&quot;</td><td>8.05</td><td>null</td><td>&quot;S&quot;</td></tr><tr><td>&hellip;</td><td>&hellip;</td><td>&hellip;</td><td>&hellip;</td><td>&hellip;</td><td>&hellip;</td><td>&hellip;</td><td>&hellip;</td><td>&hellip;</td><td>&hellip;</td><td>&hellip;</td></tr><tr><td>1105</td><td>2</td><td>&quot;Howard, Mrs. B…</td><td>&quot;female&quot;</td><td>60.0</td><td>1</td><td>0</td><td>&quot;24065&quot;</td><td>26.0</td><td>null</td><td>&quot;S&quot;</td></tr><tr><td>1044</td><td>3</td><td>&quot;Storey, Mr. Th…</td><td>&quot;male&quot;</td><td>60.5</td><td>0</td><td>0</td><td>&quot;3701&quot;</td><td>null</td><td>null</td><td>&quot;S&quot;</td></tr><tr><td>1034</td><td>1</td><td>&quot;Ryerson, Mr. A…</td><td>&quot;male&quot;</td><td>61.0</td><td>1</td><td>3</td><td>&quot;PC 17608&quot;</td><td>262.375</td><td>&quot;B57 B59 B63 B6…</td><td>&quot;C&quot;</td></tr><tr><td>1085</td><td>2</td><td>&quot;Lingane, Mr. J…</td><td>&quot;male&quot;</td><td>61.0</td><td>0</td><td>0</td><td>&quot;235509&quot;</td><td>12.35</td><td>null</td><td>&quot;Q&quot;</td></tr><tr><td>894</td><td>2</td><td>&quot;Myles, Mr. Tho…</td><td>&quot;male&quot;</td><td>62.0</td><td>0</td><td>0</td><td>&quot;240276&quot;</td><td>9.6875</td><td>null</td><td>&quot;Q&quot;</td></tr><tr><td>905</td><td>2</td><td>&quot;Howard, Mr. Be…</td><td>&quot;male&quot;</td><td>63.0</td><td>1</td><td>0</td><td>&quot;24065&quot;</td><td>26.0</td><td>null</td><td>&quot;S&quot;</td></tr><tr><td>1006</td><td>1</td><td>&quot;Straus, Mrs. I…</td><td>&quot;female&quot;</td><td>63.0</td><td>1</td><td>0</td><td>&quot;PC 17483&quot;</td><td>221.7792</td><td>&quot;C55 C57&quot;</td><td>&quot;S&quot;</td></tr><tr><td>1071</td><td>1</td><td>&quot;Compton, Mrs. …</td><td>&quot;female&quot;</td><td>64.0</td><td>0</td><td>2</td><td>&quot;PC 17756&quot;</td><td>83.1583</td><td>&quot;E45&quot;</td><td>&quot;C&quot;</td></tr><tr><td>1128</td><td>1</td><td>&quot;Warren, Mr. Fr…</td><td>&quot;male&quot;</td><td>64.0</td><td>1</td><td>0</td><td>&quot;110813&quot;</td><td>75.25</td><td>&quot;D37&quot;</td><td>&quot;C&quot;</td></tr><tr><td>1197</td><td>1</td><td>&quot;Crosby, Mrs. E…</td><td>&quot;female&quot;</td><td>64.0</td><td>1</td><td>1</td><td>&quot;112901&quot;</td><td>26.55</td><td>&quot;B26&quot;</td><td>&quot;S&quot;</td></tr><tr><td>973</td><td>1</td><td>&quot;Straus, Mr. Is…</td><td>&quot;male&quot;</td><td>67.0</td><td>1</td><td>0</td><td>&quot;PC 17483&quot;</td><td>221.7792</td><td>&quot;C55 C57&quot;</td><td>&quot;S&quot;</td></tr><tr><td>988</td><td>1</td><td>&quot;Cavendish, Mrs…</td><td>&quot;female&quot;</td><td>76.0</td><td>1</td><td>0</td><td>&quot;19877&quot;</td><td>78.85</td><td>&quot;C46&quot;</td><td>&quot;S&quot;</td></tr></tbody></table></div>"
            ]
          },
          "metadata": {},
          "execution_count": 38
        }
      ]
    },
    {
      "cell_type": "code",
      "source": [
        "pl_df.select(\n",
        "        [\n",
        "            pl.col(\"Pclass\"),\n",
        "            pl.col(\"Name\").str.to_lowercase(),\n",
        "            pl.col(\"Age\").round(2)\n",
        "        ]\n",
        "    )"
      ],
      "metadata": {
        "id": "UOXNvY0fgGez"
      },
      "execution_count": null,
      "outputs": []
    },
    {
      "cell_type": "code",
      "source": [
        "pl_df.select(pl.col(\"Name\")).head()"
      ],
      "metadata": {
        "colab": {
          "base_uri": "https://localhost:8080/",
          "height": 255
        },
        "id": "zClBSX71gM9r",
        "outputId": "5ac8c941-ef33-48ed-c1a8-b88c23cd9246"
      },
      "execution_count": null,
      "outputs": [
        {
          "output_type": "execute_result",
          "data": {
            "text/plain": [
              "shape: (5, 1)\n",
              "┌──────────────────────────────────────────────┐\n",
              "│ Name                                         │\n",
              "│ ---                                          │\n",
              "│ str                                          │\n",
              "╞══════════════════════════════════════════════╡\n",
              "│ Kelly, Mr. James                             │\n",
              "│ Wilkes, Mrs. James (Ellen Needs)             │\n",
              "│ Myles, Mr. Thomas Francis                    │\n",
              "│ Wirz, Mr. Albert                             │\n",
              "│ Hirvonen, Mrs. Alexander (Helga E Lindqvist) │\n",
              "└──────────────────────────────────────────────┘"
            ],
            "text/html": [
              "<div><style>\n",
              ".dataframe > thead > tr,\n",
              ".dataframe > tbody > tr {\n",
              "  text-align: right;\n",
              "  white-space: pre-wrap;\n",
              "}\n",
              "</style>\n",
              "<small>shape: (5, 1)</small><table border=\"1\" class=\"dataframe\"><thead><tr><th>Name</th></tr><tr><td>str</td></tr></thead><tbody><tr><td>&quot;Kelly, Mr. James&quot;</td></tr><tr><td>&quot;Wilkes, Mrs. James (Ellen Needs)&quot;</td></tr><tr><td>&quot;Myles, Mr. Thomas Francis&quot;</td></tr><tr><td>&quot;Wirz, Mr. Albert&quot;</td></tr><tr><td>&quot;Hirvonen, Mrs. Alexander (Helga E Lindqvist)&quot;</td></tr></tbody></table></div>"
            ]
          },
          "metadata": {},
          "execution_count": 53
        }
      ]
    },
    {
      "cell_type": "code",
      "source": [
        "#Split string values in column s in exactly 2 parts and assign each part to a new column.\n",
        "pl_df.with_columns(\n",
        "    [\n",
        "        pl.col(\"Name\")\n",
        "        .str.splitn(\" \", 2)\n",
        "        .struct.rename_fields([\"Last Name\", \"Second part\"])\n",
        "        .alias(\"fields\"),\n",
        "    ]\n",
        ").unnest(\"fields\")\n"
      ],
      "metadata": {
        "colab": {
          "base_uri": "https://localhost:8080/",
          "height": 1000
        },
        "id": "VAr5b4YuhdF7",
        "outputId": "8b93ceb0-0f97-42fa-d14c-ab9b1dfcdf67"
      },
      "execution_count": null,
      "outputs": [
        {
          "output_type": "execute_result",
          "data": {
            "text/plain": [
              "shape: (418, 13)\n",
              "┌─────────────┬────────┬───────────────┬────────┬───┬───────┬──────────┬───────────┬───────────────┐\n",
              "│ PassengerId ┆ Pclass ┆ Name          ┆ Sex    ┆ … ┆ Cabin ┆ Embarked ┆ Last Name ┆ Second part   │\n",
              "│ ---         ┆ ---    ┆ ---           ┆ ---    ┆   ┆ ---   ┆ ---      ┆ ---       ┆ ---           │\n",
              "│ i64         ┆ i64    ┆ str           ┆ str    ┆   ┆ str   ┆ str      ┆ str       ┆ str           │\n",
              "╞═════════════╪════════╪═══════════════╪════════╪═══╪═══════╪══════════╪═══════════╪═══════════════╡\n",
              "│ 892         ┆ 3      ┆ Kelly, Mr.    ┆ male   ┆ … ┆ null  ┆ Q        ┆ Kelly,    ┆ Mr. James     │\n",
              "│             ┆        ┆ James         ┆        ┆   ┆       ┆          ┆           ┆               │\n",
              "│ 893         ┆ 3      ┆ Wilkes, Mrs.  ┆ female ┆ … ┆ null  ┆ S        ┆ Wilkes,   ┆ Mrs. James    │\n",
              "│             ┆        ┆ James (Ellen  ┆        ┆   ┆       ┆          ┆           ┆ (Ellen Needs) │\n",
              "│             ┆        ┆ Needs)        ┆        ┆   ┆       ┆          ┆           ┆               │\n",
              "│ 894         ┆ 2      ┆ Myles, Mr.    ┆ male   ┆ … ┆ null  ┆ Q        ┆ Myles,    ┆ Mr. Thomas    │\n",
              "│             ┆        ┆ Thomas        ┆        ┆   ┆       ┆          ┆           ┆ Francis       │\n",
              "│             ┆        ┆ Francis       ┆        ┆   ┆       ┆          ┆           ┆               │\n",
              "│ 895         ┆ 3      ┆ Wirz, Mr.     ┆ male   ┆ … ┆ null  ┆ S        ┆ Wirz,     ┆ Mr. Albert    │\n",
              "│             ┆        ┆ Albert        ┆        ┆   ┆       ┆          ┆           ┆               │\n",
              "│ …           ┆ …      ┆ …             ┆ …      ┆ … ┆ …     ┆ …        ┆ …         ┆ …             │\n",
              "│ 1306        ┆ 1      ┆ Oliva y       ┆ female ┆ … ┆ C105  ┆ C        ┆ Oliva     ┆ y Ocana,      │\n",
              "│             ┆        ┆ Ocana, Dona.  ┆        ┆   ┆       ┆          ┆           ┆ Dona. Fermina │\n",
              "│             ┆        ┆ Fermina       ┆        ┆   ┆       ┆          ┆           ┆               │\n",
              "│ 1307        ┆ 3      ┆ Saether, Mr.  ┆ male   ┆ … ┆ null  ┆ S        ┆ Saether,  ┆ Mr. Simon     │\n",
              "│             ┆        ┆ Simon         ┆        ┆   ┆       ┆          ┆           ┆ Sivertsen     │\n",
              "│             ┆        ┆ Sivertsen     ┆        ┆   ┆       ┆          ┆           ┆               │\n",
              "│ 1308        ┆ 3      ┆ Ware, Mr.     ┆ male   ┆ … ┆ null  ┆ S        ┆ Ware,     ┆ Mr. Frederick │\n",
              "│             ┆        ┆ Frederick     ┆        ┆   ┆       ┆          ┆           ┆               │\n",
              "│ 1309        ┆ 3      ┆ Peter,        ┆ male   ┆ … ┆ null  ┆ C        ┆ Peter,    ┆ Master.       │\n",
              "│             ┆        ┆ Master.       ┆        ┆   ┆       ┆          ┆           ┆ Michael J     │\n",
              "│             ┆        ┆ Michael J     ┆        ┆   ┆       ┆          ┆           ┆               │\n",
              "└─────────────┴────────┴───────────────┴────────┴───┴───────┴──────────┴───────────┴───────────────┘"
            ],
            "text/html": [
              "<div><style>\n",
              ".dataframe > thead > tr,\n",
              ".dataframe > tbody > tr {\n",
              "  text-align: right;\n",
              "  white-space: pre-wrap;\n",
              "}\n",
              "</style>\n",
              "<small>shape: (418, 13)</small><table border=\"1\" class=\"dataframe\"><thead><tr><th>PassengerId</th><th>Pclass</th><th>Name</th><th>Sex</th><th>Age</th><th>SibSp</th><th>Parch</th><th>Ticket</th><th>Fare</th><th>Cabin</th><th>Embarked</th><th>Last Name</th><th>Second part</th></tr><tr><td>i64</td><td>i64</td><td>str</td><td>str</td><td>f64</td><td>i64</td><td>i64</td><td>str</td><td>f64</td><td>str</td><td>str</td><td>str</td><td>str</td></tr></thead><tbody><tr><td>892</td><td>3</td><td>&quot;Kelly, Mr. James&quot;</td><td>&quot;male&quot;</td><td>34.5</td><td>0</td><td>0</td><td>&quot;330911&quot;</td><td>7.8292</td><td>null</td><td>&quot;Q&quot;</td><td>&quot;Kelly,&quot;</td><td>&quot;Mr. James&quot;</td></tr><tr><td>893</td><td>3</td><td>&quot;Wilkes, Mrs. James (Ellen Needs)&quot;</td><td>&quot;female&quot;</td><td>47.0</td><td>1</td><td>0</td><td>&quot;363272&quot;</td><td>7.0</td><td>null</td><td>&quot;S&quot;</td><td>&quot;Wilkes,&quot;</td><td>&quot;Mrs. James (Ellen Needs)&quot;</td></tr><tr><td>894</td><td>2</td><td>&quot;Myles, Mr. Thomas Francis&quot;</td><td>&quot;male&quot;</td><td>62.0</td><td>0</td><td>0</td><td>&quot;240276&quot;</td><td>9.6875</td><td>null</td><td>&quot;Q&quot;</td><td>&quot;Myles,&quot;</td><td>&quot;Mr. Thomas Francis&quot;</td></tr><tr><td>895</td><td>3</td><td>&quot;Wirz, Mr. Albert&quot;</td><td>&quot;male&quot;</td><td>27.0</td><td>0</td><td>0</td><td>&quot;315154&quot;</td><td>8.6625</td><td>null</td><td>&quot;S&quot;</td><td>&quot;Wirz,&quot;</td><td>&quot;Mr. Albert&quot;</td></tr><tr><td>896</td><td>3</td><td>&quot;Hirvonen, Mrs. Alexander (Helga E Lindqvist)&quot;</td><td>&quot;female&quot;</td><td>22.0</td><td>1</td><td>1</td><td>&quot;3101298&quot;</td><td>12.2875</td><td>null</td><td>&quot;S&quot;</td><td>&quot;Hirvonen,&quot;</td><td>&quot;Mrs. Alexander (Helga E Lindqvist)&quot;</td></tr><tr><td>897</td><td>3</td><td>&quot;Svensson, Mr. Johan Cervin&quot;</td><td>&quot;male&quot;</td><td>14.0</td><td>0</td><td>0</td><td>&quot;7538&quot;</td><td>9.225</td><td>null</td><td>&quot;S&quot;</td><td>&quot;Svensson,&quot;</td><td>&quot;Mr. Johan Cervin&quot;</td></tr><tr><td>898</td><td>3</td><td>&quot;Connolly, Miss. Kate&quot;</td><td>&quot;female&quot;</td><td>30.0</td><td>0</td><td>0</td><td>&quot;330972&quot;</td><td>7.6292</td><td>null</td><td>&quot;Q&quot;</td><td>&quot;Connolly,&quot;</td><td>&quot;Miss. Kate&quot;</td></tr><tr><td>899</td><td>2</td><td>&quot;Caldwell, Mr. Albert Francis&quot;</td><td>&quot;male&quot;</td><td>26.0</td><td>1</td><td>1</td><td>&quot;248738&quot;</td><td>29.0</td><td>null</td><td>&quot;S&quot;</td><td>&quot;Caldwell,&quot;</td><td>&quot;Mr. Albert Francis&quot;</td></tr><tr><td>900</td><td>3</td><td>&quot;Abrahim, Mrs. Joseph (Sophie Halaut Easu)&quot;</td><td>&quot;female&quot;</td><td>18.0</td><td>0</td><td>0</td><td>&quot;2657&quot;</td><td>7.2292</td><td>null</td><td>&quot;C&quot;</td><td>&quot;Abrahim,&quot;</td><td>&quot;Mrs. Joseph (Sophie Halaut Easu)&quot;</td></tr><tr><td>901</td><td>3</td><td>&quot;Davies, Mr. John Samuel&quot;</td><td>&quot;male&quot;</td><td>21.0</td><td>2</td><td>0</td><td>&quot;A/4 48871&quot;</td><td>24.15</td><td>null</td><td>&quot;S&quot;</td><td>&quot;Davies,&quot;</td><td>&quot;Mr. John Samuel&quot;</td></tr><tr><td>902</td><td>3</td><td>&quot;Ilieff, Mr. Ylio&quot;</td><td>&quot;male&quot;</td><td>null</td><td>0</td><td>0</td><td>&quot;349220&quot;</td><td>7.8958</td><td>null</td><td>&quot;S&quot;</td><td>&quot;Ilieff,&quot;</td><td>&quot;Mr. Ylio&quot;</td></tr><tr><td>903</td><td>1</td><td>&quot;Jones, Mr. Charles Cresson&quot;</td><td>&quot;male&quot;</td><td>46.0</td><td>0</td><td>0</td><td>&quot;694&quot;</td><td>26.0</td><td>null</td><td>&quot;S&quot;</td><td>&quot;Jones,&quot;</td><td>&quot;Mr. Charles Cresson&quot;</td></tr><tr><td>&hellip;</td><td>&hellip;</td><td>&hellip;</td><td>&hellip;</td><td>&hellip;</td><td>&hellip;</td><td>&hellip;</td><td>&hellip;</td><td>&hellip;</td><td>&hellip;</td><td>&hellip;</td><td>&hellip;</td><td>&hellip;</td></tr><tr><td>1298</td><td>2</td><td>&quot;Ware, Mr. William Jeffery&quot;</td><td>&quot;male&quot;</td><td>23.0</td><td>1</td><td>0</td><td>&quot;28666&quot;</td><td>10.5</td><td>null</td><td>&quot;S&quot;</td><td>&quot;Ware,&quot;</td><td>&quot;Mr. William Jeffery&quot;</td></tr><tr><td>1299</td><td>1</td><td>&quot;Widener, Mr. George Dunton&quot;</td><td>&quot;male&quot;</td><td>50.0</td><td>1</td><td>1</td><td>&quot;113503&quot;</td><td>211.5</td><td>&quot;C80&quot;</td><td>&quot;C&quot;</td><td>&quot;Widener,&quot;</td><td>&quot;Mr. George Dunton&quot;</td></tr><tr><td>1300</td><td>3</td><td>&quot;Riordan, Miss. Johanna Hannah&quot;&quot;&quot;</td><td>&quot;female&quot;</td><td>null</td><td>0</td><td>0</td><td>&quot;334915&quot;</td><td>7.7208</td><td>null</td><td>&quot;Q&quot;</td><td>&quot;Riordan,&quot;</td><td>&quot;Miss. Johanna Hannah&quot;&quot;&quot;</td></tr><tr><td>1301</td><td>3</td><td>&quot;Peacock, Miss. Treasteall&quot;</td><td>&quot;female&quot;</td><td>3.0</td><td>1</td><td>1</td><td>&quot;SOTON/O.Q. 3101315&quot;</td><td>13.775</td><td>null</td><td>&quot;S&quot;</td><td>&quot;Peacock,&quot;</td><td>&quot;Miss. Treasteall&quot;</td></tr><tr><td>1302</td><td>3</td><td>&quot;Naughton, Miss. Hannah&quot;</td><td>&quot;female&quot;</td><td>null</td><td>0</td><td>0</td><td>&quot;365237&quot;</td><td>7.75</td><td>null</td><td>&quot;Q&quot;</td><td>&quot;Naughton,&quot;</td><td>&quot;Miss. Hannah&quot;</td></tr><tr><td>1303</td><td>1</td><td>&quot;Minahan, Mrs. William Edward (Lillian E Thorpe)&quot;</td><td>&quot;female&quot;</td><td>37.0</td><td>1</td><td>0</td><td>&quot;19928&quot;</td><td>90.0</td><td>&quot;C78&quot;</td><td>&quot;Q&quot;</td><td>&quot;Minahan,&quot;</td><td>&quot;Mrs. William Edward (Lillian E Thorpe)&quot;</td></tr><tr><td>1304</td><td>3</td><td>&quot;Henriksson, Miss. Jenny Lovisa&quot;</td><td>&quot;female&quot;</td><td>28.0</td><td>0</td><td>0</td><td>&quot;347086&quot;</td><td>7.775</td><td>null</td><td>&quot;S&quot;</td><td>&quot;Henriksson,&quot;</td><td>&quot;Miss. Jenny Lovisa&quot;</td></tr><tr><td>1305</td><td>3</td><td>&quot;Spector, Mr. Woolf&quot;</td><td>&quot;male&quot;</td><td>null</td><td>0</td><td>0</td><td>&quot;A.5. 3236&quot;</td><td>8.05</td><td>null</td><td>&quot;S&quot;</td><td>&quot;Spector,&quot;</td><td>&quot;Mr. Woolf&quot;</td></tr><tr><td>1306</td><td>1</td><td>&quot;Oliva y Ocana, Dona. Fermina&quot;</td><td>&quot;female&quot;</td><td>39.0</td><td>0</td><td>0</td><td>&quot;PC 17758&quot;</td><td>108.9</td><td>&quot;C105&quot;</td><td>&quot;C&quot;</td><td>&quot;Oliva&quot;</td><td>&quot;y Ocana, Dona. Fermina&quot;</td></tr><tr><td>1307</td><td>3</td><td>&quot;Saether, Mr. Simon Sivertsen&quot;</td><td>&quot;male&quot;</td><td>38.5</td><td>0</td><td>0</td><td>&quot;SOTON/O.Q. 3101262&quot;</td><td>7.25</td><td>null</td><td>&quot;S&quot;</td><td>&quot;Saether,&quot;</td><td>&quot;Mr. Simon Sivertsen&quot;</td></tr><tr><td>1308</td><td>3</td><td>&quot;Ware, Mr. Frederick&quot;</td><td>&quot;male&quot;</td><td>null</td><td>0</td><td>0</td><td>&quot;359309&quot;</td><td>8.05</td><td>null</td><td>&quot;S&quot;</td><td>&quot;Ware,&quot;</td><td>&quot;Mr. Frederick&quot;</td></tr><tr><td>1309</td><td>3</td><td>&quot;Peter, Master. Michael J&quot;</td><td>&quot;male&quot;</td><td>null</td><td>1</td><td>1</td><td>&quot;2668&quot;</td><td>22.3583</td><td>null</td><td>&quot;C&quot;</td><td>&quot;Peter,&quot;</td><td>&quot;Master. Michael J&quot;</td></tr></tbody></table></div>"
            ]
          },
          "metadata": {},
          "execution_count": 58
        }
      ]
    },
    {
      "cell_type": "code",
      "source": [
        "pl_df.columns"
      ],
      "metadata": {
        "colab": {
          "base_uri": "https://localhost:8080/"
        },
        "id": "n2uo7VqgiiCf",
        "outputId": "dbf5d638-bb8d-4a9b-d857-18cbd85a74e1"
      },
      "execution_count": null,
      "outputs": [
        {
          "output_type": "execute_result",
          "data": {
            "text/plain": [
              "['PassengerId',\n",
              " 'Survived',\n",
              " 'Pclass',\n",
              " 'Name',\n",
              " 'Sex',\n",
              " 'Age',\n",
              " 'SibSp',\n",
              " 'Parch',\n",
              " 'Ticket',\n",
              " 'Fare',\n",
              " 'Cabin',\n",
              " 'Embarked']"
            ]
          },
          "metadata": {},
          "execution_count": 68
        }
      ]
    },
    {
      "cell_type": "code",
      "source": [
        "pl_df.group_by([\"Survived\",\"Pclass\"]).agg(pl.col(\"PassengerId\").count().alias(\"counts\"))"
      ],
      "metadata": {
        "colab": {
          "base_uri": "https://localhost:8080/",
          "height": 286
        },
        "id": "nlw3jjVshvhh",
        "outputId": "a4b78f8c-53a7-4f76-a7a0-c1d81b919cf3"
      },
      "execution_count": null,
      "outputs": [
        {
          "output_type": "execute_result",
          "data": {
            "text/plain": [
              "shape: (6, 3)\n",
              "┌──────────┬────────┬────────┐\n",
              "│ Survived ┆ Pclass ┆ counts │\n",
              "│ ---      ┆ ---    ┆ ---    │\n",
              "│ i64      ┆ i64    ┆ u32    │\n",
              "╞══════════╪════════╪════════╡\n",
              "│ 1        ┆ 1      ┆ 136    │\n",
              "│ 0        ┆ 2      ┆ 97     │\n",
              "│ 0        ┆ 3      ┆ 372    │\n",
              "│ 1        ┆ 3      ┆ 119    │\n",
              "│ 0        ┆ 1      ┆ 80     │\n",
              "│ 1        ┆ 2      ┆ 87     │\n",
              "└──────────┴────────┴────────┘"
            ],
            "text/html": [
              "<div><style>\n",
              ".dataframe > thead > tr,\n",
              ".dataframe > tbody > tr {\n",
              "  text-align: right;\n",
              "  white-space: pre-wrap;\n",
              "}\n",
              "</style>\n",
              "<small>shape: (6, 3)</small><table border=\"1\" class=\"dataframe\"><thead><tr><th>Survived</th><th>Pclass</th><th>counts</th></tr><tr><td>i64</td><td>i64</td><td>u32</td></tr></thead><tbody><tr><td>1</td><td>1</td><td>136</td></tr><tr><td>0</td><td>2</td><td>97</td></tr><tr><td>0</td><td>3</td><td>372</td></tr><tr><td>1</td><td>3</td><td>119</td></tr><tr><td>0</td><td>1</td><td>80</td></tr><tr><td>1</td><td>2</td><td>87</td></tr></tbody></table></div>"
            ]
          },
          "metadata": {},
          "execution_count": 111
        }
      ]
    },
    {
      "cell_type": "code",
      "source": [
        "pl_df.group_by([\"Survived\",\"Pclass\"]).agg(\n",
        "        pl.col(\"PassengerId\").count().alias(\"counts\")\n",
        "      ).with_columns(\n",
        "        100 * (pl.col(\"counts\")/ pl.col(\"counts\").sum().over(\"Pclass\").alias(\"% Survived\"\n",
        "        )\n",
        "        )\n",
        "      ).sort([\"Pclass\", \"Survived\"],descending=True)\n"
      ],
      "metadata": {
        "colab": {
          "base_uri": "https://localhost:8080/",
          "height": 286
        },
        "id": "a1xh0NSEirmG",
        "outputId": "19eb3bc6-8109-4880-b669-e3d022b04338"
      },
      "execution_count": null,
      "outputs": [
        {
          "output_type": "execute_result",
          "data": {
            "text/plain": [
              "shape: (6, 4)\n",
              "┌──────────┬────────┬────────┬───────────┐\n",
              "│ Survived ┆ Pclass ┆ counts ┆ literal   │\n",
              "│ ---      ┆ ---    ┆ ---    ┆ ---       │\n",
              "│ i64      ┆ i64    ┆ u32    ┆ f64       │\n",
              "╞══════════╪════════╪════════╪═══════════╡\n",
              "│ 1        ┆ 3      ┆ 119    ┆ 24.236253 │\n",
              "│ 0        ┆ 3      ┆ 372    ┆ 75.763747 │\n",
              "│ 1        ┆ 2      ┆ 87     ┆ 47.282609 │\n",
              "│ 0        ┆ 2      ┆ 97     ┆ 52.717391 │\n",
              "│ 1        ┆ 1      ┆ 136    ┆ 62.962963 │\n",
              "│ 0        ┆ 1      ┆ 80     ┆ 37.037037 │\n",
              "└──────────┴────────┴────────┴───────────┘"
            ],
            "text/html": [
              "<div><style>\n",
              ".dataframe > thead > tr,\n",
              ".dataframe > tbody > tr {\n",
              "  text-align: right;\n",
              "  white-space: pre-wrap;\n",
              "}\n",
              "</style>\n",
              "<small>shape: (6, 4)</small><table border=\"1\" class=\"dataframe\"><thead><tr><th>Survived</th><th>Pclass</th><th>counts</th><th>literal</th></tr><tr><td>i64</td><td>i64</td><td>u32</td><td>f64</td></tr></thead><tbody><tr><td>1</td><td>3</td><td>119</td><td>24.236253</td></tr><tr><td>0</td><td>3</td><td>372</td><td>75.763747</td></tr><tr><td>1</td><td>2</td><td>87</td><td>47.282609</td></tr><tr><td>0</td><td>2</td><td>97</td><td>52.717391</td></tr><tr><td>1</td><td>1</td><td>136</td><td>62.962963</td></tr><tr><td>0</td><td>1</td><td>80</td><td>37.037037</td></tr></tbody></table></div>"
            ]
          },
          "metadata": {},
          "execution_count": 110
        }
      ]
    },
    {
      "cell_type": "code",
      "source": [
        "pl.scan_csv(file).group_by(\n",
        "    [\"Survived\",\"Pclass\"]).agg(\n",
        "        pl.col(\"PassengerId\").count().alias(\"counts\")\n",
        "    )"
      ],
      "metadata": {
        "colab": {
          "base_uri": "https://localhost:8080/",
          "height": 286
        },
        "id": "n6zzHzEmjWdW",
        "outputId": "609384eb-eea1-4552-856d-38730153e536"
      },
      "execution_count": null,
      "outputs": [
        {
          "output_type": "execute_result",
          "data": {
            "text/plain": [
              "<LazyFrame [3 cols, {\"Survived\": Int64 … \"counts\": UInt32}] at 0x79BA4DCC7310>"
            ],
            "text/html": [
              "<h4>NAIVE QUERY PLAN</h4><p>run <b>LazyFrame.show_graph()</b> to see the optimized version</p><?xml version=\"1.0\" encoding=\"UTF-8\" standalone=\"no\"?>\n",
              "<!DOCTYPE svg PUBLIC \"-//W3C//DTD SVG 1.1//EN\"\n",
              " \"http://www.w3.org/Graphics/SVG/1.1/DTD/svg11.dtd\">\n",
              "<!-- Generated by graphviz version 2.43.0 (0)\n",
              " -->\n",
              "<!-- Title: polars_query Pages: 1 -->\n",
              "<svg width=\"362pt\" height=\"150pt\"\n",
              " viewBox=\"0.00 0.00 362.00 150.00\" xmlns=\"http://www.w3.org/2000/svg\" xmlns:xlink=\"http://www.w3.org/1999/xlink\">\n",
              "<g id=\"graph0\" class=\"graph\" transform=\"scale(1 1) rotate(0) translate(4 146)\">\n",
              "<title>polars_query</title>\n",
              "<polygon fill=\"white\" stroke=\"transparent\" points=\"-4,4 -4,-146 358,-146 358,4 -4,4\"/>\n",
              "<!-- AGG [col(&quot;PassengerId&quot;).count().alias(&quot;counts&quot;)]\n",
              "BY\n",
              "[col(&quot;Survived&quot;),col(&quot;Pclass&quot;)] [(0, 0)] [(0, 0)] -->\n",
              "<g id=\"node1\" class=\"node\">\n",
              "<title>AGG [col(&quot;PassengerId&quot;).count().alias(&quot;counts&quot;)]\n",
              "BY\n",
              "[col(&quot;Survived&quot;),col(&quot;Pclass&quot;)] [(0, 0)] [(0, 0)]</title>\n",
              "<polygon fill=\"none\" stroke=\"black\" points=\"321.5,-142 32.5,-142 32.5,-89 321.5,-89 321.5,-142\"/>\n",
              "<text text-anchor=\"middle\" x=\"177\" y=\"-126.8\" font-family=\"Times,serif\" font-size=\"14.00\">AGG [col(&quot;PassengerId&quot;).count().alias(&quot;counts&quot;)]</text>\n",
              "<text text-anchor=\"middle\" x=\"177\" y=\"-111.8\" font-family=\"Times,serif\" font-size=\"14.00\">BY</text>\n",
              "<text text-anchor=\"middle\" x=\"177\" y=\"-96.8\" font-family=\"Times,serif\" font-size=\"14.00\">[col(&quot;Survived&quot;),col(&quot;Pclass&quot;)] [(0, 0)]</text>\n",
              "</g>\n",
              "<!-- Csv SCAN /content/drive/MyDrive/dataset_polars/titanic.csv;\n",
              "π */12;\n",
              "σ &#45; [(0, 1)] -->\n",
              "<g id=\"node2\" class=\"node\">\n",
              "<title>Csv SCAN /content/drive/MyDrive/dataset_polars/titanic.csv;\n",
              "π */12;\n",
              "σ &#45; [(0, 1)]</title>\n",
              "<polygon fill=\"none\" stroke=\"black\" points=\"354,-53 0,-53 0,0 354,0 354,-53\"/>\n",
              "<text text-anchor=\"middle\" x=\"177\" y=\"-37.8\" font-family=\"Times,serif\" font-size=\"14.00\">Csv SCAN /content/drive/MyDrive/dataset_polars/titanic.csv;</text>\n",
              "<text text-anchor=\"middle\" x=\"177\" y=\"-22.8\" font-family=\"Times,serif\" font-size=\"14.00\">π */12;</text>\n",
              "<text text-anchor=\"middle\" x=\"177\" y=\"-7.8\" font-family=\"Times,serif\" font-size=\"14.00\">σ &#45;</text>\n",
              "</g>\n",
              "<!-- AGG [col(&quot;PassengerId&quot;).count().alias(&quot;counts&quot;)]\n",
              "BY\n",
              "[col(&quot;Survived&quot;),col(&quot;Pclass&quot;)] [(0, 0)] [(0, 0)]&#45;&#45;Csv SCAN /content/drive/MyDrive/dataset_polars/titanic.csv;\n",
              "π */12;\n",
              "σ &#45; [(0, 1)] -->\n",
              "<g id=\"edge1\" class=\"edge\">\n",
              "<title>AGG [col(&quot;PassengerId&quot;).count().alias(&quot;counts&quot;)]\n",
              "BY\n",
              "[col(&quot;Survived&quot;),col(&quot;Pclass&quot;)] [(0, 0)] [(0, 0)]&#45;&#45;Csv SCAN /content/drive/MyDrive/dataset_polars/titanic.csv;\n",
              "π */12;\n",
              "σ &#45; [(0, 1)]</title>\n",
              "<path fill=\"none\" stroke=\"black\" d=\"M177,-88.87C177,-77.64 177,-64.49 177,-53.25\"/>\n",
              "</g>\n",
              "</g>\n",
              "</svg>\n"
            ]
          },
          "metadata": {},
          "execution_count": 109
        }
      ]
    },
    {
      "cell_type": "code",
      "source": [
        "pl.scan_csv(file).group_by([\"Survived\",\"Pclass\"]).agg(\n",
        "        pl.col(\"PassengerId\").count().alias(\"counts\")).explain()"
      ],
      "metadata": {
        "colab": {
          "base_uri": "https://localhost:8080/",
          "height": 71
        },
        "id": "iRH-GsA4lasz",
        "outputId": "6c2efab2-e8b9-4ff2-be4f-42e69209be7f"
      },
      "execution_count": null,
      "outputs": [
        {
          "output_type": "execute_result",
          "data": {
            "text/plain": [
              "'AGGREGATE\\n\\t[col(\"PassengerId\").count().alias(\"counts\")] BY [col(\"Survived\"), col(\"Pclass\")] FROM\\n\\n    Csv SCAN /content/drive/MyDrive/dataset_polars/titanic.csv\\n    PROJECT 3/12 COLUMNS'"
            ],
            "application/vnd.google.colaboratory.intrinsic+json": {
              "type": "string"
            }
          },
          "metadata": {},
          "execution_count": 108
        }
      ]
    },
    {
      "cell_type": "code",
      "source": [
        "pl.scan_csv(file).filter(pl.col(\"Age\") > 50).groupby([\"Survived\",\"Pclass\"]).agg(\n",
        "        pl.col(\"PassengerId\").count().alias(\"counts\")\n",
        "    ).explain()"
      ],
      "metadata": {
        "colab": {
          "base_uri": "https://localhost:8080/",
          "height": 127
        },
        "id": "VmCmVLbFnRYj",
        "outputId": "666d290c-f7b7-44cb-d5a1-4f11a4a71ade"
      },
      "execution_count": null,
      "outputs": [
        {
          "output_type": "stream",
          "name": "stderr",
          "text": [
            "<ipython-input-117-0e9b579059a8>:1: DeprecationWarning: `groupby` is deprecated. It has been renamed to `group_by`.\n",
            "  pl.scan_csv(file).filter(pl.col(\"Age\") > 50).groupby([\"Survived\",\"Pclass\"]).agg(\n"
          ]
        },
        {
          "output_type": "execute_result",
          "data": {
            "text/plain": [
              "'AGGREGATE\\n\\t[col(\"PassengerId\").count().alias(\"counts\")] BY [col(\"Survived\"), col(\"Pclass\")] FROM\\n\\n    Csv SCAN /content/drive/MyDrive/dataset_polars/titanic.csv\\n    PROJECT 4/12 COLUMNS\\n    SELECTION: [(col(\"Age\")) > (50.0)]'"
            ],
            "application/vnd.google.colaboratory.intrinsic+json": {
              "type": "string"
            }
          },
          "metadata": {},
          "execution_count": 117
        }
      ]
    },
    {
      "cell_type": "code",
      "source": [
        "pl.scan_csv(file).filter(pl.col(\"Age\") > 50).group_by([\"Survived\",\"Pclass\"]).agg(\n",
        "        pl.col(\"PassengerId\").count().alias(\"counts\")\n",
        "    ).collect()"
      ],
      "metadata": {
        "colab": {
          "base_uri": "https://localhost:8080/",
          "height": 286
        },
        "id": "HoA5yD8cncKp",
        "outputId": "683101c1-9f47-4b26-9bab-b220f4a62fcc"
      },
      "execution_count": null,
      "outputs": [
        {
          "output_type": "execute_result",
          "data": {
            "text/plain": [
              "shape: (6, 3)\n",
              "┌──────────┬────────┬────────┐\n",
              "│ Survived ┆ Pclass ┆ counts │\n",
              "│ ---      ┆ ---    ┆ ---    │\n",
              "│ i64      ┆ i64    ┆ u32    │\n",
              "╞══════════╪════════╪════════╡\n",
              "│ 0        ┆ 1      ┆ 21     │\n",
              "│ 0        ┆ 3      ┆ 9      │\n",
              "│ 1        ┆ 3      ┆ 1      │\n",
              "│ 1        ┆ 1      ┆ 18     │\n",
              "│ 1        ┆ 2      ┆ 3      │\n",
              "│ 0        ┆ 2      ┆ 12     │\n",
              "└──────────┴────────┴────────┘"
            ],
            "text/html": [
              "<div><style>\n",
              ".dataframe > thead > tr,\n",
              ".dataframe > tbody > tr {\n",
              "  text-align: right;\n",
              "  white-space: pre-wrap;\n",
              "}\n",
              "</style>\n",
              "<small>shape: (6, 3)</small><table border=\"1\" class=\"dataframe\"><thead><tr><th>Survived</th><th>Pclass</th><th>counts</th></tr><tr><td>i64</td><td>i64</td><td>u32</td></tr></thead><tbody><tr><td>0</td><td>1</td><td>21</td></tr><tr><td>0</td><td>3</td><td>9</td></tr><tr><td>1</td><td>3</td><td>1</td></tr><tr><td>1</td><td>1</td><td>18</td></tr><tr><td>1</td><td>2</td><td>3</td></tr><tr><td>0</td><td>2</td><td>12</td></tr></tbody></table></div>"
            ]
          },
          "metadata": {},
          "execution_count": 119
        }
      ]
    },
    {
      "cell_type": "code",
      "source": [
        "pl.scan_csv(file).filter(pl.col(\"Age\") > 50).group_by([\"Survived\",\"Pclass\"]).agg(\n",
        "        pl.col(\"PassengerId\").count().alias(\"counts\")\n",
        "    ).fetch(3)"
      ],
      "metadata": {
        "colab": {
          "base_uri": "https://localhost:8080/",
          "height": 192
        },
        "id": "_-sJlemGn4uq",
        "outputId": "4e53b250-7867-46d6-954a-d7250f360ae7"
      },
      "execution_count": null,
      "outputs": [
        {
          "output_type": "execute_result",
          "data": {
            "text/plain": [
              "shape: (3, 3)\n",
              "┌──────────┬────────┬────────┐\n",
              "│ Survived ┆ Pclass ┆ counts │\n",
              "│ ---      ┆ ---    ┆ ---    │\n",
              "│ i64      ┆ i64    ┆ u32    │\n",
              "╞══════════╪════════╪════════╡\n",
              "│ 0        ┆ 1      ┆ 1      │\n",
              "│ 1        ┆ 1      ┆ 1      │\n",
              "│ 1        ┆ 2      ┆ 1      │\n",
              "└──────────┴────────┴────────┘"
            ],
            "text/html": [
              "<div><style>\n",
              ".dataframe > thead > tr,\n",
              ".dataframe > tbody > tr {\n",
              "  text-align: right;\n",
              "  white-space: pre-wrap;\n",
              "}\n",
              "</style>\n",
              "<small>shape: (3, 3)</small><table border=\"1\" class=\"dataframe\"><thead><tr><th>Survived</th><th>Pclass</th><th>counts</th></tr><tr><td>i64</td><td>i64</td><td>u32</td></tr></thead><tbody><tr><td>0</td><td>1</td><td>1</td></tr><tr><td>1</td><td>1</td><td>1</td></tr><tr><td>1</td><td>2</td><td>1</td></tr></tbody></table></div>"
            ]
          },
          "metadata": {},
          "execution_count": 122
        }
      ]
    },
    {
      "cell_type": "code",
      "source": [
        "age = pl_df.sort(\"Age\").tail(6)"
      ],
      "metadata": {
        "id": "iHWExR-Xzz4e"
      },
      "execution_count": null,
      "outputs": []
    },
    {
      "cell_type": "code",
      "source": [
        "import matplotlib.pyplot as plt\n"
      ],
      "metadata": {
        "id": "zCgTs7Hr0Z5i"
      },
      "execution_count": null,
      "outputs": []
    },
    {
      "cell_type": "code",
      "source": [
        "fig, ax = plt.subplots()\n",
        "ax.barh(y=pl_df[\"Sex\"],\n",
        "        width= pl_df[\"Age\"])\n",
        "ax.set_xlabel(\"Edad\")\n"
      ],
      "metadata": {
        "colab": {
          "base_uri": "https://localhost:8080/",
          "height": 467
        },
        "id": "d4K4-yR1z_lb",
        "outputId": "42059433-860f-4b53-b0bd-917d2cf490b0"
      },
      "execution_count": null,
      "outputs": [
        {
          "output_type": "execute_result",
          "data": {
            "text/plain": [
              "Text(0.5, 0, 'Edad')"
            ]
          },
          "metadata": {},
          "execution_count": 11
        },
        {
          "output_type": "display_data",
          "data": {
            "text/plain": [
              "<Figure size 640x480 with 1 Axes>"
            ],
            "image/png": "[encoded data removed]"
          },
          "metadata": {}
        }
      ]
    },
    {
      "cell_type": "code",
      "source": [
        "import seaborn as sns"
      ],
      "metadata": {
        "id": "4Q7tm0ta0tbk"
      },
      "execution_count": null,
      "outputs": []
    },
    {
      "cell_type": "code",
      "source": [
        "sns.jointplot(data=(pl_df.with_columns(\n",
        "            [\n",
        "                pl.col(pl.Float64).log(),\n",
        "                pl.col(\"Pclass\").cast(pl.Utf8)\n",
        "            ]\n",
        "        ).to_pandas()\n",
        "    ),\n",
        "    x=\"Age\",\n",
        "    y=\"Fare\",\n",
        "    hue=\"Pclass\",\n",
        ")"
      ],
      "metadata": {
        "colab": {
          "base_uri": "https://localhost:8080/",
          "height": 625
        },
        "id": "zkN1_WVh0yBG",
        "outputId": "5f34b551-c771-4032-c377-b796eb40aa43"
      },
      "execution_count": null,
      "outputs": [
        {
          "output_type": "execute_result",
          "data": {
            "text/plain": [
              "<seaborn.axisgrid.JointGrid at 0x7bf7656c58a0>"
            ]
          },
          "metadata": {},
          "execution_count": 17
        },
        {
          "output_type": "display_data",
          "data": {
            "text/plain": [
              "<Figure size 600x600 with 3 Axes>"
            ],
            "image/png": "[encoded data removed]"
          },
          "metadata": {}
        }
      ]
    },
    {
      "cell_type": "markdown",
      "source": [
        "# Probemos el dataset largo de ~5GB"
      ],
      "metadata": {
        "id": "xiCpzVCOn_yO"
      }
    },
    {
      "cell_type": "code",
      "source": [
        "large_file=\"/content/drive/MyDrive/dataset_polars/202304.csv\""
      ],
      "metadata": {
        "id": "iHSKKR0xoWdl"
      },
      "execution_count": null,
      "outputs": []
    },
    {
      "cell_type": "code",
      "source": [
        "large_polars_df = pl.read_csv(large_file)"
      ],
      "metadata": {
        "id": "ipp0grRdodhV"
      },
      "execution_count": null,
      "outputs": []
    },
    {
      "cell_type": "code",
      "source": [
        "large_pandas_df = pd.read_csv(large_file)"
      ],
      "metadata": {
        "id": "G1na0i_aowxm"
      },
      "execution_count": null,
      "outputs": []
    },
    {
      "cell_type": "code",
      "source": [
        "large_polars_df = pl.scan_csv(large_file)"
      ],
      "metadata": {
        "id": "mOK1rIRWo42_"
      },
      "execution_count": null,
      "outputs": []
    }
  ]
}